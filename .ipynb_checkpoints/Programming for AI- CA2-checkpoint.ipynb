{
 "cells": [
  {
   "cell_type": "markdown",
   "id": "3200fef1-76ba-4224-b6bc-523aff6047f9",
   "metadata": {
    "jp-MarkdownHeadingCollapsed": true
   },
   "source": [
    "## Import and Key Findings on Dataset"
   ]
  },
  {
   "cell_type": "code",
   "execution_count": 1,
   "id": "fde03479-b160-4b6b-abc5-3f686e1e194e",
   "metadata": {},
   "outputs": [],
   "source": [
    "#!pip install keras\n",
    "#!pip install tensorflow\n",
    "#!pip install scikeras"
   ]
  },
  {
   "cell_type": "code",
   "execution_count": 2,
   "id": "d9076d0e-6989-40c6-b6c3-101735cc67b2",
   "metadata": {},
   "outputs": [],
   "source": [
    "#Libraries\n",
    "from sklearn.base import BaseEstimator, ClassifierMixin\n",
    "from keras.models import Sequential\n",
    "from keras.layers import Dense, Dropout\n",
    "from keras.optimizers import Adam\n",
    "\n",
    "import numpy as np\n",
    "import pandas as pd\n",
    "import tensorflow as tf\n",
    "import seaborn as sns\n",
    "import matplotlib.pyplot as plt\n",
    "\n",
    "from tensorflow.keras import models, layers, regularizers\n",
    "from tensorflow.keras.models import Sequential\n",
    "from tensorflow.keras.optimizers import Adam, SGD\n",
    "from tensorflow.keras.layers import Dense, Dropout\n",
    "from scikeras.wrappers import KerasClassifier\n",
    "from sklearn.model_selection import StratifiedKFold, train_test_split, GridSearchCV\n",
    "from sklearn.preprocessing import StandardScaler, OneHotEncoder\n",
    "from imblearn.over_sampling import SMOTE\n",
    "from sklearn.metrics import classification_report\n",
    "\n",
    "# To ignore warnings\n",
    "import warnings\n",
    "warnings.filterwarnings(\"ignore\")"
   ]
  },
  {
   "cell_type": "code",
   "execution_count": 3,
   "id": "0425c422-e1b5-4644-a6f5-ef421219aa98",
   "metadata": {
    "scrolled": true
   },
   "outputs": [
    {
     "data": {
      "text/html": [
       "<div>\n",
       "<style scoped>\n",
       "    .dataframe tbody tr th:only-of-type {\n",
       "        vertical-align: middle;\n",
       "    }\n",
       "\n",
       "    .dataframe tbody tr th {\n",
       "        vertical-align: top;\n",
       "    }\n",
       "\n",
       "    .dataframe thead th {\n",
       "        text-align: right;\n",
       "    }\n",
       "</style>\n",
       "<table border=\"1\" class=\"dataframe\">\n",
       "  <thead>\n",
       "    <tr style=\"text-align: right;\">\n",
       "      <th></th>\n",
       "      <th>id</th>\n",
       "      <th>ri</th>\n",
       "      <th>na</th>\n",
       "      <th>mg</th>\n",
       "      <th>al</th>\n",
       "      <th>si</th>\n",
       "      <th>k</th>\n",
       "      <th>ca</th>\n",
       "      <th>ba</th>\n",
       "      <th>fe</th>\n",
       "      <th>type</th>\n",
       "    </tr>\n",
       "  </thead>\n",
       "  <tbody>\n",
       "    <tr>\n",
       "      <th>0</th>\n",
       "      <td>1</td>\n",
       "      <td>1.52101</td>\n",
       "      <td>13.64</td>\n",
       "      <td>4.49</td>\n",
       "      <td>1.10</td>\n",
       "      <td>71.78</td>\n",
       "      <td>0.06</td>\n",
       "      <td>8.75</td>\n",
       "      <td>0.00</td>\n",
       "      <td>0.0</td>\n",
       "      <td>1</td>\n",
       "    </tr>\n",
       "    <tr>\n",
       "      <th>1</th>\n",
       "      <td>2</td>\n",
       "      <td>1.51761</td>\n",
       "      <td>13.89</td>\n",
       "      <td>3.60</td>\n",
       "      <td>1.36</td>\n",
       "      <td>72.73</td>\n",
       "      <td>0.48</td>\n",
       "      <td>7.83</td>\n",
       "      <td>0.00</td>\n",
       "      <td>0.0</td>\n",
       "      <td>1</td>\n",
       "    </tr>\n",
       "    <tr>\n",
       "      <th>2</th>\n",
       "      <td>3</td>\n",
       "      <td>1.51618</td>\n",
       "      <td>13.53</td>\n",
       "      <td>3.55</td>\n",
       "      <td>1.54</td>\n",
       "      <td>72.99</td>\n",
       "      <td>0.39</td>\n",
       "      <td>7.78</td>\n",
       "      <td>0.00</td>\n",
       "      <td>0.0</td>\n",
       "      <td>1</td>\n",
       "    </tr>\n",
       "    <tr>\n",
       "      <th>3</th>\n",
       "      <td>4</td>\n",
       "      <td>1.51766</td>\n",
       "      <td>13.21</td>\n",
       "      <td>3.69</td>\n",
       "      <td>1.29</td>\n",
       "      <td>72.61</td>\n",
       "      <td>0.57</td>\n",
       "      <td>8.22</td>\n",
       "      <td>0.00</td>\n",
       "      <td>0.0</td>\n",
       "      <td>1</td>\n",
       "    </tr>\n",
       "    <tr>\n",
       "      <th>4</th>\n",
       "      <td>5</td>\n",
       "      <td>1.51742</td>\n",
       "      <td>13.27</td>\n",
       "      <td>3.62</td>\n",
       "      <td>1.24</td>\n",
       "      <td>73.08</td>\n",
       "      <td>0.55</td>\n",
       "      <td>8.07</td>\n",
       "      <td>0.00</td>\n",
       "      <td>0.0</td>\n",
       "      <td>1</td>\n",
       "    </tr>\n",
       "    <tr>\n",
       "      <th>...</th>\n",
       "      <td>...</td>\n",
       "      <td>...</td>\n",
       "      <td>...</td>\n",
       "      <td>...</td>\n",
       "      <td>...</td>\n",
       "      <td>...</td>\n",
       "      <td>...</td>\n",
       "      <td>...</td>\n",
       "      <td>...</td>\n",
       "      <td>...</td>\n",
       "      <td>...</td>\n",
       "    </tr>\n",
       "    <tr>\n",
       "      <th>209</th>\n",
       "      <td>210</td>\n",
       "      <td>1.51623</td>\n",
       "      <td>14.14</td>\n",
       "      <td>0.00</td>\n",
       "      <td>2.88</td>\n",
       "      <td>72.61</td>\n",
       "      <td>0.08</td>\n",
       "      <td>9.18</td>\n",
       "      <td>1.06</td>\n",
       "      <td>0.0</td>\n",
       "      <td>7</td>\n",
       "    </tr>\n",
       "    <tr>\n",
       "      <th>210</th>\n",
       "      <td>211</td>\n",
       "      <td>1.51685</td>\n",
       "      <td>14.92</td>\n",
       "      <td>0.00</td>\n",
       "      <td>1.99</td>\n",
       "      <td>73.06</td>\n",
       "      <td>0.00</td>\n",
       "      <td>8.40</td>\n",
       "      <td>1.59</td>\n",
       "      <td>0.0</td>\n",
       "      <td>7</td>\n",
       "    </tr>\n",
       "    <tr>\n",
       "      <th>211</th>\n",
       "      <td>212</td>\n",
       "      <td>1.52065</td>\n",
       "      <td>14.36</td>\n",
       "      <td>0.00</td>\n",
       "      <td>2.02</td>\n",
       "      <td>73.42</td>\n",
       "      <td>0.00</td>\n",
       "      <td>8.44</td>\n",
       "      <td>1.64</td>\n",
       "      <td>0.0</td>\n",
       "      <td>7</td>\n",
       "    </tr>\n",
       "    <tr>\n",
       "      <th>212</th>\n",
       "      <td>213</td>\n",
       "      <td>1.51651</td>\n",
       "      <td>14.38</td>\n",
       "      <td>0.00</td>\n",
       "      <td>1.94</td>\n",
       "      <td>73.61</td>\n",
       "      <td>0.00</td>\n",
       "      <td>8.48</td>\n",
       "      <td>1.57</td>\n",
       "      <td>0.0</td>\n",
       "      <td>7</td>\n",
       "    </tr>\n",
       "    <tr>\n",
       "      <th>213</th>\n",
       "      <td>214</td>\n",
       "      <td>1.51711</td>\n",
       "      <td>14.23</td>\n",
       "      <td>0.00</td>\n",
       "      <td>2.08</td>\n",
       "      <td>73.36</td>\n",
       "      <td>0.00</td>\n",
       "      <td>8.62</td>\n",
       "      <td>1.67</td>\n",
       "      <td>0.0</td>\n",
       "      <td>7</td>\n",
       "    </tr>\n",
       "  </tbody>\n",
       "</table>\n",
       "<p>214 rows × 11 columns</p>\n",
       "</div>"
      ],
      "text/plain": [
       "      id       ri     na    mg    al     si     k    ca    ba   fe  type\n",
       "0      1  1.52101  13.64  4.49  1.10  71.78  0.06  8.75  0.00  0.0     1\n",
       "1      2  1.51761  13.89  3.60  1.36  72.73  0.48  7.83  0.00  0.0     1\n",
       "2      3  1.51618  13.53  3.55  1.54  72.99  0.39  7.78  0.00  0.0     1\n",
       "3      4  1.51766  13.21  3.69  1.29  72.61  0.57  8.22  0.00  0.0     1\n",
       "4      5  1.51742  13.27  3.62  1.24  73.08  0.55  8.07  0.00  0.0     1\n",
       "..   ...      ...    ...   ...   ...    ...   ...   ...   ...  ...   ...\n",
       "209  210  1.51623  14.14  0.00  2.88  72.61  0.08  9.18  1.06  0.0     7\n",
       "210  211  1.51685  14.92  0.00  1.99  73.06  0.00  8.40  1.59  0.0     7\n",
       "211  212  1.52065  14.36  0.00  2.02  73.42  0.00  8.44  1.64  0.0     7\n",
       "212  213  1.51651  14.38  0.00  1.94  73.61  0.00  8.48  1.57  0.0     7\n",
       "213  214  1.51711  14.23  0.00  2.08  73.36  0.00  8.62  1.67  0.0     7\n",
       "\n",
       "[214 rows x 11 columns]"
      ]
     },
     "execution_count": 3,
     "metadata": {},
     "output_type": "execute_result"
    }
   ],
   "source": [
    "#Read CSV file\n",
    "df_1 = pd.read_csv('glass_data.csv')\n",
    "df_1"
   ]
  },
  {
   "cell_type": "code",
   "execution_count": 4,
   "id": "2bf16a39-aa0e-4cff-af81-5102dd27a371",
   "metadata": {},
   "outputs": [
    {
     "name": "stdout",
     "output_type": "stream",
     "text": [
      "<class 'pandas.core.frame.DataFrame'>\n",
      "RangeIndex: 214 entries, 0 to 213\n",
      "Data columns (total 11 columns):\n",
      " #   Column  Non-Null Count  Dtype  \n",
      "---  ------  --------------  -----  \n",
      " 0   id      214 non-null    int64  \n",
      " 1   ri      214 non-null    float64\n",
      " 2   na      214 non-null    float64\n",
      " 3   mg      214 non-null    float64\n",
      " 4   al      214 non-null    float64\n",
      " 5   si      214 non-null    float64\n",
      " 6   k       214 non-null    float64\n",
      " 7   ca      214 non-null    float64\n",
      " 8   ba      214 non-null    float64\n",
      " 9   fe      214 non-null    float64\n",
      " 10  type    214 non-null    int64  \n",
      "dtypes: float64(9), int64(2)\n",
      "memory usage: 18.5 KB\n"
     ]
    }
   ],
   "source": [
    "#Understand categories\n",
    "df_1.info()"
   ]
  },
  {
   "cell_type": "code",
   "execution_count": 5,
   "id": "995c4974-802a-4911-8d7c-b132484a7fa9",
   "metadata": {},
   "outputs": [
    {
     "data": {
      "text/plain": [
       "(214, 11)"
      ]
     },
     "execution_count": 5,
     "metadata": {},
     "output_type": "execute_result"
    }
   ],
   "source": [
    "#Understand columns rows\n",
    "df_1.shape"
   ]
  },
  {
   "cell_type": "markdown",
   "id": "512ab5ea-297d-4bf1-846b-aac109de4021",
   "metadata": {
    "jp-MarkdownHeadingCollapsed": true
   },
   "source": [
    "## Check for null values"
   ]
  },
  {
   "cell_type": "code",
   "execution_count": 6,
   "id": "59422a63-b169-4d28-b0a5-eef24f3c7c12",
   "metadata": {},
   "outputs": [
    {
     "data": {
      "text/plain": [
       "id      0\n",
       "ri      0\n",
       "na      0\n",
       "mg      0\n",
       "al      0\n",
       "si      0\n",
       "k       0\n",
       "ca      0\n",
       "ba      0\n",
       "fe      0\n",
       "type    0\n",
       "dtype: int64"
      ]
     },
     "execution_count": 6,
     "metadata": {},
     "output_type": "execute_result"
    }
   ],
   "source": [
    "#Check for null values\n",
    "df_1.isnull().sum()"
   ]
  },
  {
   "cell_type": "code",
   "execution_count": 7,
   "id": "38100d9d-8c9a-4676-ab3c-85e9f007fbad",
   "metadata": {},
   "outputs": [
    {
     "data": {
      "text/html": [
       "<div>\n",
       "<style scoped>\n",
       "    .dataframe tbody tr th:only-of-type {\n",
       "        vertical-align: middle;\n",
       "    }\n",
       "\n",
       "    .dataframe tbody tr th {\n",
       "        vertical-align: top;\n",
       "    }\n",
       "\n",
       "    .dataframe thead th {\n",
       "        text-align: right;\n",
       "    }\n",
       "</style>\n",
       "<table border=\"1\" class=\"dataframe\">\n",
       "  <thead>\n",
       "    <tr style=\"text-align: right;\">\n",
       "      <th></th>\n",
       "      <th>id</th>\n",
       "      <th>ri</th>\n",
       "      <th>na</th>\n",
       "      <th>mg</th>\n",
       "      <th>al</th>\n",
       "      <th>si</th>\n",
       "      <th>k</th>\n",
       "      <th>ca</th>\n",
       "      <th>ba</th>\n",
       "      <th>fe</th>\n",
       "      <th>type</th>\n",
       "    </tr>\n",
       "  </thead>\n",
       "  <tbody>\n",
       "    <tr>\n",
       "      <th>count</th>\n",
       "      <td>214.000000</td>\n",
       "      <td>214.000000</td>\n",
       "      <td>214.000000</td>\n",
       "      <td>214.000000</td>\n",
       "      <td>214.000000</td>\n",
       "      <td>214.000000</td>\n",
       "      <td>214.000000</td>\n",
       "      <td>214.000000</td>\n",
       "      <td>214.000000</td>\n",
       "      <td>214.000000</td>\n",
       "      <td>214.000000</td>\n",
       "    </tr>\n",
       "    <tr>\n",
       "      <th>mean</th>\n",
       "      <td>107.500000</td>\n",
       "      <td>1.518365</td>\n",
       "      <td>13.407850</td>\n",
       "      <td>2.684533</td>\n",
       "      <td>1.444907</td>\n",
       "      <td>72.650935</td>\n",
       "      <td>0.497056</td>\n",
       "      <td>8.956963</td>\n",
       "      <td>0.175047</td>\n",
       "      <td>0.057009</td>\n",
       "      <td>2.780374</td>\n",
       "    </tr>\n",
       "    <tr>\n",
       "      <th>std</th>\n",
       "      <td>61.920648</td>\n",
       "      <td>0.003037</td>\n",
       "      <td>0.816604</td>\n",
       "      <td>1.442408</td>\n",
       "      <td>0.499270</td>\n",
       "      <td>0.774546</td>\n",
       "      <td>0.652192</td>\n",
       "      <td>1.423153</td>\n",
       "      <td>0.497219</td>\n",
       "      <td>0.097439</td>\n",
       "      <td>2.103739</td>\n",
       "    </tr>\n",
       "    <tr>\n",
       "      <th>min</th>\n",
       "      <td>1.000000</td>\n",
       "      <td>1.511150</td>\n",
       "      <td>10.730000</td>\n",
       "      <td>0.000000</td>\n",
       "      <td>0.290000</td>\n",
       "      <td>69.810000</td>\n",
       "      <td>0.000000</td>\n",
       "      <td>5.430000</td>\n",
       "      <td>0.000000</td>\n",
       "      <td>0.000000</td>\n",
       "      <td>1.000000</td>\n",
       "    </tr>\n",
       "    <tr>\n",
       "      <th>25%</th>\n",
       "      <td>54.250000</td>\n",
       "      <td>1.516522</td>\n",
       "      <td>12.907500</td>\n",
       "      <td>2.115000</td>\n",
       "      <td>1.190000</td>\n",
       "      <td>72.280000</td>\n",
       "      <td>0.122500</td>\n",
       "      <td>8.240000</td>\n",
       "      <td>0.000000</td>\n",
       "      <td>0.000000</td>\n",
       "      <td>1.000000</td>\n",
       "    </tr>\n",
       "    <tr>\n",
       "      <th>50%</th>\n",
       "      <td>107.500000</td>\n",
       "      <td>1.517680</td>\n",
       "      <td>13.300000</td>\n",
       "      <td>3.480000</td>\n",
       "      <td>1.360000</td>\n",
       "      <td>72.790000</td>\n",
       "      <td>0.555000</td>\n",
       "      <td>8.600000</td>\n",
       "      <td>0.000000</td>\n",
       "      <td>0.000000</td>\n",
       "      <td>2.000000</td>\n",
       "    </tr>\n",
       "    <tr>\n",
       "      <th>75%</th>\n",
       "      <td>160.750000</td>\n",
       "      <td>1.519157</td>\n",
       "      <td>13.825000</td>\n",
       "      <td>3.600000</td>\n",
       "      <td>1.630000</td>\n",
       "      <td>73.087500</td>\n",
       "      <td>0.610000</td>\n",
       "      <td>9.172500</td>\n",
       "      <td>0.000000</td>\n",
       "      <td>0.100000</td>\n",
       "      <td>3.000000</td>\n",
       "    </tr>\n",
       "    <tr>\n",
       "      <th>max</th>\n",
       "      <td>214.000000</td>\n",
       "      <td>1.533930</td>\n",
       "      <td>17.380000</td>\n",
       "      <td>4.490000</td>\n",
       "      <td>3.500000</td>\n",
       "      <td>75.410000</td>\n",
       "      <td>6.210000</td>\n",
       "      <td>16.190000</td>\n",
       "      <td>3.150000</td>\n",
       "      <td>0.510000</td>\n",
       "      <td>7.000000</td>\n",
       "    </tr>\n",
       "  </tbody>\n",
       "</table>\n",
       "</div>"
      ],
      "text/plain": [
       "               id          ri          na          mg          al          si  \\\n",
       "count  214.000000  214.000000  214.000000  214.000000  214.000000  214.000000   \n",
       "mean   107.500000    1.518365   13.407850    2.684533    1.444907   72.650935   \n",
       "std     61.920648    0.003037    0.816604    1.442408    0.499270    0.774546   \n",
       "min      1.000000    1.511150   10.730000    0.000000    0.290000   69.810000   \n",
       "25%     54.250000    1.516522   12.907500    2.115000    1.190000   72.280000   \n",
       "50%    107.500000    1.517680   13.300000    3.480000    1.360000   72.790000   \n",
       "75%    160.750000    1.519157   13.825000    3.600000    1.630000   73.087500   \n",
       "max    214.000000    1.533930   17.380000    4.490000    3.500000   75.410000   \n",
       "\n",
       "                k          ca          ba          fe        type  \n",
       "count  214.000000  214.000000  214.000000  214.000000  214.000000  \n",
       "mean     0.497056    8.956963    0.175047    0.057009    2.780374  \n",
       "std      0.652192    1.423153    0.497219    0.097439    2.103739  \n",
       "min      0.000000    5.430000    0.000000    0.000000    1.000000  \n",
       "25%      0.122500    8.240000    0.000000    0.000000    1.000000  \n",
       "50%      0.555000    8.600000    0.000000    0.000000    2.000000  \n",
       "75%      0.610000    9.172500    0.000000    0.100000    3.000000  \n",
       "max      6.210000   16.190000    3.150000    0.510000    7.000000  "
      ]
     },
     "execution_count": 7,
     "metadata": {},
     "output_type": "execute_result"
    }
   ],
   "source": [
    "# Describe the data\n",
    "df_1.describe()"
   ]
  },
  {
   "cell_type": "code",
   "execution_count": 8,
   "id": "af910c76-3071-481f-879c-c2edd1252ad2",
   "metadata": {},
   "outputs": [
    {
     "name": "stdout",
     "output_type": "stream",
     "text": [
      "Empty DataFrame\n",
      "Columns: [id, ri, na, mg, al, si, k, ca, ba, fe, type]\n",
      "Index: []\n"
     ]
    }
   ],
   "source": [
    "# values less than 0\n",
    "minus = df_1 < 0\n",
    "print(df_1[minus.any(axis=1)])"
   ]
  },
  {
   "cell_type": "markdown",
   "id": "c9472cd5-5855-437b-8012-9237b680b7ec",
   "metadata": {
    "jp-MarkdownHeadingCollapsed": true
   },
   "source": [
    "## Check for values in the categorical column"
   ]
  },
  {
   "cell_type": "code",
   "execution_count": 9,
   "id": "23852eeb-76b2-48f7-b342-8f162a9569af",
   "metadata": {},
   "outputs": [
    {
     "data": {
      "text/plain": [
       "array([1, 2, 3, 5, 6, 7], dtype=int64)"
      ]
     },
     "execution_count": 9,
     "metadata": {},
     "output_type": "execute_result"
    }
   ],
   "source": [
    "df_1['type'].unique()"
   ]
  },
  {
   "cell_type": "markdown",
   "id": "36417a72-596c-498c-b3ef-658eb457f4fc",
   "metadata": {
    "jp-MarkdownHeadingCollapsed": true
   },
   "source": [
    "## Check for duplicated rows"
   ]
  },
  {
   "cell_type": "code",
   "execution_count": 10,
   "id": "8aad659f-5e18-4213-9b96-ad3f894f9010",
   "metadata": {},
   "outputs": [
    {
     "data": {
      "text/plain": [
       "0"
      ]
     },
     "execution_count": 10,
     "metadata": {},
     "output_type": "execute_result"
    }
   ],
   "source": [
    "df_1.duplicated().sum()"
   ]
  },
  {
   "cell_type": "markdown",
   "id": "47cc4820-8330-4503-acd9-41b18ccd15fe",
   "metadata": {
    "jp-MarkdownHeadingCollapsed": true
   },
   "source": [
    "## Check for 0 values"
   ]
  },
  {
   "cell_type": "code",
   "execution_count": 11,
   "id": "9ba4e786-495e-4daf-b0b5-ef0a04012717",
   "metadata": {},
   "outputs": [],
   "source": [
    "# Min value is 0.00, check for 0.00 values\n",
    "df_zero = (df_1 == 0).sum()"
   ]
  },
  {
   "cell_type": "code",
   "execution_count": 12,
   "id": "27a3a605-3e5e-48e2-9ddb-cd602b42c5fe",
   "metadata": {},
   "outputs": [
    {
     "data": {
      "text/plain": [
       "id        0\n",
       "ri        0\n",
       "na        0\n",
       "mg       42\n",
       "al        0\n",
       "si        0\n",
       "k        30\n",
       "ca        0\n",
       "ba      176\n",
       "fe      144\n",
       "type      0\n",
       "dtype: int64"
      ]
     },
     "execution_count": 12,
     "metadata": {},
     "output_type": "execute_result"
    }
   ],
   "source": [
    "df_zero"
   ]
  },
  {
   "cell_type": "code",
   "execution_count": 13,
   "id": "f2e2b841-27ec-4778-ae6a-6b300630d8a5",
   "metadata": {},
   "outputs": [
    {
     "name": "stdout",
     "output_type": "stream",
     "text": [
      "id       0.000000\n",
      "ri       0.000000\n",
      "na       0.000000\n",
      "mg      19.626168\n",
      "al       0.000000\n",
      "si       0.000000\n",
      "k       14.018692\n",
      "ca       0.000000\n",
      "ba      82.242991\n",
      "fe      67.289720\n",
      "type     0.000000\n",
      "dtype: float64\n"
     ]
    }
   ],
   "source": [
    "# Check percentage of 0 values\n",
    "zero_percentage = (df_1 == 0).mean() * 100\n",
    "print(zero_percentage)"
   ]
  },
  {
   "cell_type": "code",
   "execution_count": 14,
   "id": "137bdd16-f367-4395-a647-bdc5fd27cb78",
   "metadata": {},
   "outputs": [
    {
     "data": {
      "image/png": "[encoded data removed]",
      "text/plain": [
       "<Figure size 600x200 with 1 Axes>"
      ]
     },
     "metadata": {},
     "output_type": "display_data"
    }
   ],
   "source": [
    "#Graph %\n",
    "plt.figure(figsize=(6,2))\n",
    "plt.bar(zero_percentage.index, zero_percentage, color='skyblue', edgecolor='black')\n",
    "\n",
    "plt.title('% of 0.00 values per column')\n",
    "plt.xlabel('columns')\n",
    "plt.ylabel('%')\n",
    "\n",
    "plt.show()\n"
   ]
  },
  {
   "cell_type": "markdown",
   "id": "c7d8a0ef-9b8c-4640-925e-186fd090f0fc",
   "metadata": {
    "jp-MarkdownHeadingCollapsed": true
   },
   "source": [
    "## Drop ID / BA column"
   ]
  },
  {
   "cell_type": "code",
   "execution_count": 15,
   "id": "d415d2e8-5810-4e49-b8d7-a55eb514f807",
   "metadata": {},
   "outputs": [],
   "source": [
    "df_1.drop(columns=['id','ba'], inplace=True)"
   ]
  },
  {
   "cell_type": "code",
   "execution_count": 16,
   "id": "a1b062f3-37b3-4248-b683-b71eb966def9",
   "metadata": {},
   "outputs": [
    {
     "data": {
      "text/html": [
       "<div>\n",
       "<style scoped>\n",
       "    .dataframe tbody tr th:only-of-type {\n",
       "        vertical-align: middle;\n",
       "    }\n",
       "\n",
       "    .dataframe tbody tr th {\n",
       "        vertical-align: top;\n",
       "    }\n",
       "\n",
       "    .dataframe thead th {\n",
       "        text-align: right;\n",
       "    }\n",
       "</style>\n",
       "<table border=\"1\" class=\"dataframe\">\n",
       "  <thead>\n",
       "    <tr style=\"text-align: right;\">\n",
       "      <th></th>\n",
       "      <th>ri</th>\n",
       "      <th>na</th>\n",
       "      <th>mg</th>\n",
       "      <th>al</th>\n",
       "      <th>si</th>\n",
       "      <th>k</th>\n",
       "      <th>ca</th>\n",
       "      <th>fe</th>\n",
       "      <th>type</th>\n",
       "    </tr>\n",
       "  </thead>\n",
       "  <tbody>\n",
       "    <tr>\n",
       "      <th>0</th>\n",
       "      <td>1.52101</td>\n",
       "      <td>13.64</td>\n",
       "      <td>4.49</td>\n",
       "      <td>1.10</td>\n",
       "      <td>71.78</td>\n",
       "      <td>0.06</td>\n",
       "      <td>8.75</td>\n",
       "      <td>0.0</td>\n",
       "      <td>1</td>\n",
       "    </tr>\n",
       "    <tr>\n",
       "      <th>1</th>\n",
       "      <td>1.51761</td>\n",
       "      <td>13.89</td>\n",
       "      <td>3.60</td>\n",
       "      <td>1.36</td>\n",
       "      <td>72.73</td>\n",
       "      <td>0.48</td>\n",
       "      <td>7.83</td>\n",
       "      <td>0.0</td>\n",
       "      <td>1</td>\n",
       "    </tr>\n",
       "    <tr>\n",
       "      <th>2</th>\n",
       "      <td>1.51618</td>\n",
       "      <td>13.53</td>\n",
       "      <td>3.55</td>\n",
       "      <td>1.54</td>\n",
       "      <td>72.99</td>\n",
       "      <td>0.39</td>\n",
       "      <td>7.78</td>\n",
       "      <td>0.0</td>\n",
       "      <td>1</td>\n",
       "    </tr>\n",
       "    <tr>\n",
       "      <th>3</th>\n",
       "      <td>1.51766</td>\n",
       "      <td>13.21</td>\n",
       "      <td>3.69</td>\n",
       "      <td>1.29</td>\n",
       "      <td>72.61</td>\n",
       "      <td>0.57</td>\n",
       "      <td>8.22</td>\n",
       "      <td>0.0</td>\n",
       "      <td>1</td>\n",
       "    </tr>\n",
       "    <tr>\n",
       "      <th>4</th>\n",
       "      <td>1.51742</td>\n",
       "      <td>13.27</td>\n",
       "      <td>3.62</td>\n",
       "      <td>1.24</td>\n",
       "      <td>73.08</td>\n",
       "      <td>0.55</td>\n",
       "      <td>8.07</td>\n",
       "      <td>0.0</td>\n",
       "      <td>1</td>\n",
       "    </tr>\n",
       "  </tbody>\n",
       "</table>\n",
       "</div>"
      ],
      "text/plain": [
       "        ri     na    mg    al     si     k    ca   fe  type\n",
       "0  1.52101  13.64  4.49  1.10  71.78  0.06  8.75  0.0     1\n",
       "1  1.51761  13.89  3.60  1.36  72.73  0.48  7.83  0.0     1\n",
       "2  1.51618  13.53  3.55  1.54  72.99  0.39  7.78  0.0     1\n",
       "3  1.51766  13.21  3.69  1.29  72.61  0.57  8.22  0.0     1\n",
       "4  1.51742  13.27  3.62  1.24  73.08  0.55  8.07  0.0     1"
      ]
     },
     "execution_count": 16,
     "metadata": {},
     "output_type": "execute_result"
    }
   ],
   "source": [
    "df_1.head()"
   ]
  },
  {
   "cell_type": "markdown",
   "id": "60a8ae16-c5a4-459d-94be-71258364d7b5",
   "metadata": {
    "jp-MarkdownHeadingCollapsed": true
   },
   "source": [
    "## Check for outliers in each column"
   ]
  },
  {
   "cell_type": "code",
   "execution_count": 17,
   "id": "6b67f54f-1be9-4cd3-924d-fe59d0a22089",
   "metadata": {},
   "outputs": [
    {
     "name": "stdout",
     "output_type": "stream",
     "text": [
      "ri\n",
      "lower bound: 1.5086175000000002\n",
      "upper bound: 1.5270624999999998\n",
      "Outliers in ri:\n",
      "          ri     na    mg    al     si     k     ca    fe  type\n",
      "103  1.52725  13.80  3.15  0.66  70.57  0.08  11.64  0.00     2\n",
      "106  1.53125  10.73  0.00  2.10  69.81  0.58  13.30  0.28     2\n",
      "107  1.53393  12.30  0.00  1.00  70.16  0.12  16.19  0.24     2\n",
      "111  1.52739  11.02  0.00  0.75  73.08  0.00  14.96  0.00     2\n",
      "112  1.52777  12.64  0.00  0.67  72.02  0.06  14.40  0.00     2\n",
      "--------------------------------------------------\n",
      "na\n",
      "lower bound: 10.155000000000005\n",
      "upper bound: 16.577499999999993\n",
      "Outliers in na:\n",
      "          ri     na   mg    al     si    k    ca   fe  type\n",
      "184  1.51115  17.38  0.0  0.34  75.41  0.0  6.65  0.0     6\n",
      "--------------------------------------------------\n",
      "mg\n",
      "lower bound: -2.340000000000001\n",
      "upper bound: 8.055000000000001\n",
      "Outliers in mg:\n",
      "Empty DataFrame\n",
      "Columns: [ri, na, mg, al, si, k, ca, fe, type]\n",
      "Index: []\n",
      "--------------------------------------------------\n",
      "al\n",
      "lower bound: -0.1299999999999999\n",
      "upper bound: 2.9499999999999997\n",
      "Outliers in al:\n",
      "          ri     na    mg    al     si     k    ca   fe  type\n",
      "163  1.51514  14.01  2.68  3.50  69.89  1.68  5.87  0.0     5\n",
      "171  1.51316  13.02  0.00  3.04  70.48  6.21  6.96  0.0     5\n",
      "172  1.51321  13.00  0.00  3.02  70.70  6.21  6.93  0.0     5\n",
      "--------------------------------------------------\n",
      "si\n",
      "lower bound: 69.85749999999999\n",
      "upper bound: 75.51000000000002\n",
      "Outliers in si:\n",
      "          ri     na   mg   al     si     k    ca    fe  type\n",
      "106  1.53125  10.73  0.0  2.1  69.81  0.58  13.3  0.28     2\n",
      "--------------------------------------------------\n",
      "k\n",
      "lower bound: -1.3399999999999999\n",
      "upper bound: 2.0725\n",
      "Outliers in k:\n",
      "          ri     na   mg    al     si     k    ca   fe  type\n",
      "171  1.51316  13.02  0.0  3.04  70.48  6.21  6.96  0.0     5\n",
      "172  1.51321  13.00  0.0  3.02  70.70  6.21  6.93  0.0     5\n",
      "201  1.51653  11.95  0.0  1.19  75.18  2.70  8.93  0.0     7\n",
      "--------------------------------------------------\n",
      "ca\n",
      "lower bound: 5.442500000000003\n",
      "upper bound: 11.969999999999997\n",
      "Outliers in ca:\n",
      "          ri     na   mg    al     si     k     ca    fe  type\n",
      "105  1.52475  11.45  0.0  1.88  72.19  0.81  13.24  0.34     2\n",
      "106  1.53125  10.73  0.0  2.10  69.81  0.58  13.30  0.28     2\n",
      "107  1.53393  12.30  0.0  1.00  70.16  0.12  16.19  0.24     2\n",
      "110  1.52664  11.23  0.0  0.77  73.21  0.00  14.68  0.00     2\n",
      "111  1.52739  11.02  0.0  0.75  73.08  0.00  14.96  0.00     2\n",
      "112  1.52777  12.64  0.0  0.67  72.02  0.06  14.40  0.00     2\n",
      "131  1.52614  13.70  0.0  1.36  71.24  0.19  13.44  0.10     2\n",
      "170  1.52369  13.44  0.0  1.58  72.22  0.32  12.24  0.00     5\n",
      "173  1.52043  13.38  0.0  1.40  72.25  0.33  12.50  0.00     5\n",
      "185  1.51131  13.69  3.2  1.81  72.81  1.76   5.43  0.00     7\n",
      "--------------------------------------------------\n",
      "fe\n",
      "lower bound: -0.30000000000000004\n",
      "upper bound: 0.4\n",
      "Outliers in fe:\n",
      "          ri     na    mg    al     si     k   ca    fe  type\n",
      "174  1.52058  12.85  1.61  2.17  72.18  0.76  9.7  0.51     5\n",
      "--------------------------------------------------\n",
      "type\n",
      "lower bound: -5.0\n",
      "upper bound: 9.0\n",
      "Outliers in type:\n",
      "Empty DataFrame\n",
      "Columns: [ri, na, mg, al, si, k, ca, fe, type]\n",
      "Index: []\n",
      "--------------------------------------------------\n"
     ]
    }
   ],
   "source": [
    "## The outliers are correct data, so I will only search for extreme outliers\n",
    "# Identifying extreme outliers using Inter Quartile Range (using 3 *IQR as this would be extreme)\n",
    "# Create an empty dictionary to store the outliers\n",
    "outliers = {}\n",
    "\n",
    "# Loop through each column to calculate IQR and identify extreme outliers\n",
    "for column in df_1.columns:\n",
    "    Q1 = df_1[column].quantile(0.25)\n",
    "    Q3 = df_1[column].quantile(0.75)\n",
    "    IQR = Q3 - Q1\n",
    "    lower_bound = Q1 - 3 * IQR\n",
    "    upper_bound = Q3 + 3 * IQR\n",
    "   \n",
    "    # Identify extreme outliers\n",
    "    outliers[column] = df_1[(df_1[column] < lower_bound) | (df_1[column] > upper_bound)]\n",
    "   \n",
    "    # Print outliers for each column (optional)\n",
    "    print(f\"{column}\")\n",
    "    print(f\"lower bound: {lower_bound}\")\n",
    "    print(f\"upper bound: {upper_bound}\")\n",
    "    print(f\"Outliers in {column}:\")\n",
    "    print(outliers[column])\n",
    "    print(\"-\" * 50)\n"
   ]
  },
  {
   "cell_type": "code",
   "execution_count": 18,
   "id": "eb0c3951-d58d-4f46-828f-f678121e60db",
   "metadata": {},
   "outputs": [
    {
     "data": {
      "image/png": "[encoded data removed]",
      "text/plain": [
       "<Figure size 2500x1400 with 9 Axes>"
      ]
     },
     "metadata": {},
     "output_type": "display_data"
    }
   ],
   "source": [
    "# create scatter plots for all columns to show extreme outliers\n",
    "plt.figure(figsize=(25,14))\n",
    "           \n",
    "for i, column in enumerate(df_1.columns):\n",
    "    # 2 rows, 5 columns\n",
    "    plt.subplot(2, 5, i+1)\n",
    "    sns.scatterplot(x= df_1.index, y = df_1[column], color='blue', label='Data Points')\n",
    "    \n",
    "    #Extrem Outliers in red\n",
    "    sns.scatterplot(x=outliers[column].index, y=outliers[column][column], color='red', label='Extreme Outliers')\n",
    "    plt.title(f\"Scatter Plot with Extreme Outliers for {column}\")\n",
    "    plt.xlabel('Index')\n",
    "    plt.ylabel('Values')\n",
    "    plt.legend()\n",
    "\n",
    "plt.tight_layout()\n",
    "plt.show()"
   ]
  },
  {
   "cell_type": "markdown",
   "id": "fe1b20c4-3c70-4beb-887a-4715b6e079cb",
   "metadata": {
    "jp-MarkdownHeadingCollapsed": true
   },
   "source": [
    "## Check Skewness to know whether to use median or mean when replacing outliers"
   ]
  },
  {
   "cell_type": "code",
   "execution_count": 19,
   "id": "80c614ad-026e-4d70-a409-8d720d5391a7",
   "metadata": {},
   "outputs": [
    {
     "name": "stdout",
     "output_type": "stream",
     "text": [
      "skewness for ri: 1.614\n",
      "skewness for na: 0.451\n",
      "skewness for mg: -1.144\n",
      "skewness for al: 0.901\n",
      "skewness for si: -0.725\n",
      "skewness for k: 6.506\n",
      "skewness for ca: 2.033\n",
      "skewness for fe: 1.742\n",
      "skewness for type: 1.107\n"
     ]
    }
   ],
   "source": [
    "# Check skewness\n",
    "# skewness > 0, right-skewed / positive\n",
    "# skewness < 0, left-skewed / negative\n",
    "# skewness = 0, symmetric\n",
    "\n",
    "# -0.5 to +0.5 - approx symmetric = mean\n",
    "# -1 to +1 - moderate skewed = mean\n",
    "# >1 - substantial skewed = median\n",
    "# >2 - highly skewed = median\n",
    "\n",
    "from scipy.stats import skew\n",
    "\n",
    "#Create storage for skewness\n",
    "skew_df = {}\n",
    "\n",
    "# Loop each column for skewness\n",
    "for columns in df_1.columns:\n",
    "    #calculate skewness\n",
    "    col_skew = skew(df_1[columns])\n",
    "    #Add to dict\n",
    "    skew_df[columns] = col_skew\n",
    "    #print\n",
    "    print(f\"skewness for {columns}: {col_skew:.3f}\")\n",
    "    \n"
   ]
  },
  {
   "cell_type": "code",
   "execution_count": 20,
   "id": "46ca47cd-f786-450f-b512-4c5d38bfa89f",
   "metadata": {},
   "outputs": [
    {
     "data": {
      "image/png": "[encoded data removed]",
      "text/plain": [
       "<Figure size 1200x800 with 9 Axes>"
      ]
     },
     "metadata": {},
     "output_type": "display_data"
    }
   ],
   "source": [
    "# plot skewness for each column\n",
    "def plot_skewness(df_1):\n",
    "    plt.figure(figsize=(12, 8))\n",
    "   \n",
    "    # Loop through each column \n",
    "    for i, columns in enumerate(df_1.columns):\n",
    "        plt.subplot(3, 4, i + 1)  \n",
    "        sns.histplot(df_1[columns], kde=True, bins=20, color='skyblue')\n",
    "       \n",
    "        # Calculate skewness for the column\n",
    "        column_skew = skew(df_1[columns])\n",
    "       \n",
    "        # Title and annotation for skewness\n",
    "        plt.title(f'{columns} - Skewness: {column_skew:.3f}')\n",
    "        plt.xlabel(columns)\n",
    "        plt.ylabel('Frequency')\n",
    "   \n",
    "    # Adjust layout to avoid overlap\n",
    "    plt.tight_layout()\n",
    "    plt.show()\n",
    "\n",
    "# Plot skewness for all columns\n",
    "plot_skewness(df_1)"
   ]
  },
  {
   "cell_type": "markdown",
   "id": "7cee8ea9-e9f3-43cd-9ad1-c893a3953134",
   "metadata": {
    "jp-MarkdownHeadingCollapsed": true
   },
   "source": [
    "## Replace Outliers"
   ]
  },
  {
   "cell_type": "code",
   "execution_count": 21,
   "id": "fc48abb7-515c-4771-921d-870100f99922",
   "metadata": {},
   "outputs": [],
   "source": [
    "# ri - 5 extreme outliers - Median\n",
    "# na - 1 extreme outliers -  mean\n",
    "# mg - \n",
    "# al - 3 extreme outliers -  mean\n",
    "# si - 1 extreme outliers -  mean\n",
    "# k - 3 extreme outliers -  30 zero values - Median\n",
    "# ca - 10 extreme outliers - Median\n",
    "# fe - 1 extreme outliers - 144 zero values- Median"
   ]
  },
  {
   "cell_type": "code",
   "execution_count": 22,
   "id": "ec9205bc-3633-4f05-96fb-adfbad060460",
   "metadata": {},
   "outputs": [
    {
     "data": {
      "text/html": [
       "<div>\n",
       "<style scoped>\n",
       "    .dataframe tbody tr th:only-of-type {\n",
       "        vertical-align: middle;\n",
       "    }\n",
       "\n",
       "    .dataframe tbody tr th {\n",
       "        vertical-align: top;\n",
       "    }\n",
       "\n",
       "    .dataframe thead th {\n",
       "        text-align: right;\n",
       "    }\n",
       "</style>\n",
       "<table border=\"1\" class=\"dataframe\">\n",
       "  <thead>\n",
       "    <tr style=\"text-align: right;\">\n",
       "      <th></th>\n",
       "      <th>ri</th>\n",
       "      <th>na</th>\n",
       "      <th>mg</th>\n",
       "      <th>al</th>\n",
       "      <th>si</th>\n",
       "      <th>k</th>\n",
       "      <th>ca</th>\n",
       "      <th>fe</th>\n",
       "      <th>type</th>\n",
       "    </tr>\n",
       "  </thead>\n",
       "  <tbody>\n",
       "    <tr>\n",
       "      <th>count</th>\n",
       "      <td>214.000000</td>\n",
       "      <td>214.000000</td>\n",
       "      <td>214.000000</td>\n",
       "      <td>214.000000</td>\n",
       "      <td>214.000000</td>\n",
       "      <td>214.000000</td>\n",
       "      <td>214.000000</td>\n",
       "      <td>214.000000</td>\n",
       "      <td>214.000000</td>\n",
       "    </tr>\n",
       "    <tr>\n",
       "      <th>mean</th>\n",
       "      <td>1.518089</td>\n",
       "      <td>13.389289</td>\n",
       "      <td>2.684533</td>\n",
       "      <td>1.420489</td>\n",
       "      <td>72.664210</td>\n",
       "      <td>0.434182</td>\n",
       "      <td>8.749579</td>\n",
       "      <td>0.054626</td>\n",
       "      <td>2.780374</td>\n",
       "    </tr>\n",
       "    <tr>\n",
       "      <th>std</th>\n",
       "      <td>0.002464</td>\n",
       "      <td>0.769688</td>\n",
       "      <td>1.442408</td>\n",
       "      <td>0.453046</td>\n",
       "      <td>0.749568</td>\n",
       "      <td>0.303625</td>\n",
       "      <td>0.918422</td>\n",
       "      <td>0.092415</td>\n",
       "      <td>2.103739</td>\n",
       "    </tr>\n",
       "    <tr>\n",
       "      <th>min</th>\n",
       "      <td>1.511150</td>\n",
       "      <td>10.730000</td>\n",
       "      <td>0.000000</td>\n",
       "      <td>0.290000</td>\n",
       "      <td>69.890000</td>\n",
       "      <td>0.000000</td>\n",
       "      <td>5.790000</td>\n",
       "      <td>0.000000</td>\n",
       "      <td>1.000000</td>\n",
       "    </tr>\n",
       "    <tr>\n",
       "      <th>25%</th>\n",
       "      <td>1.516522</td>\n",
       "      <td>12.907500</td>\n",
       "      <td>2.115000</td>\n",
       "      <td>1.190000</td>\n",
       "      <td>72.290000</td>\n",
       "      <td>0.122500</td>\n",
       "      <td>8.247500</td>\n",
       "      <td>0.000000</td>\n",
       "      <td>1.000000</td>\n",
       "    </tr>\n",
       "    <tr>\n",
       "      <th>50%</th>\n",
       "      <td>1.517680</td>\n",
       "      <td>13.300000</td>\n",
       "      <td>3.480000</td>\n",
       "      <td>1.360000</td>\n",
       "      <td>72.790000</td>\n",
       "      <td>0.552500</td>\n",
       "      <td>8.600000</td>\n",
       "      <td>0.000000</td>\n",
       "      <td>2.000000</td>\n",
       "    </tr>\n",
       "    <tr>\n",
       "      <th>75%</th>\n",
       "      <td>1.519038</td>\n",
       "      <td>13.807500</td>\n",
       "      <td>3.600000</td>\n",
       "      <td>1.620000</td>\n",
       "      <td>73.087500</td>\n",
       "      <td>0.600000</td>\n",
       "      <td>9.037500</td>\n",
       "      <td>0.097500</td>\n",
       "      <td>3.000000</td>\n",
       "    </tr>\n",
       "    <tr>\n",
       "      <th>max</th>\n",
       "      <td>1.526670</td>\n",
       "      <td>15.790000</td>\n",
       "      <td>4.490000</td>\n",
       "      <td>2.880000</td>\n",
       "      <td>75.410000</td>\n",
       "      <td>1.760000</td>\n",
       "      <td>11.640000</td>\n",
       "      <td>0.370000</td>\n",
       "      <td>7.000000</td>\n",
       "    </tr>\n",
       "  </tbody>\n",
       "</table>\n",
       "</div>"
      ],
      "text/plain": [
       "               ri          na          mg          al          si           k  \\\n",
       "count  214.000000  214.000000  214.000000  214.000000  214.000000  214.000000   \n",
       "mean     1.518089   13.389289    2.684533    1.420489   72.664210    0.434182   \n",
       "std      0.002464    0.769688    1.442408    0.453046    0.749568    0.303625   \n",
       "min      1.511150   10.730000    0.000000    0.290000   69.890000    0.000000   \n",
       "25%      1.516522   12.907500    2.115000    1.190000   72.290000    0.122500   \n",
       "50%      1.517680   13.300000    3.480000    1.360000   72.790000    0.552500   \n",
       "75%      1.519038   13.807500    3.600000    1.620000   73.087500    0.600000   \n",
       "max      1.526670   15.790000    4.490000    2.880000   75.410000    1.760000   \n",
       "\n",
       "               ca          fe        type  \n",
       "count  214.000000  214.000000  214.000000  \n",
       "mean     8.749579    0.054626    2.780374  \n",
       "std      0.918422    0.092415    2.103739  \n",
       "min      5.790000    0.000000    1.000000  \n",
       "25%      8.247500    0.000000    1.000000  \n",
       "50%      8.600000    0.000000    2.000000  \n",
       "75%      9.037500    0.097500    3.000000  \n",
       "max     11.640000    0.370000    7.000000  "
      ]
     },
     "execution_count": 22,
     "metadata": {},
     "output_type": "execute_result"
    }
   ],
   "source": [
    "# replace outliers with median\n",
    "for col in ['ri', 'k', 'fe','ca']:\n",
    "    med_val = df_1[col].median()\n",
    "    df_1[col] = df_1[col].apply(lambda x: med_val if x < df_1[col].quantile(0.25) - 3*(df_1[col].quantile(0.75)-df_1[col].quantile(0.25)) or x > df_1[col].quantile(0.75) + 3*(df_1[col].quantile(0.75)-df_1[col].quantile(0.25)) else x)\n",
    "\n",
    "\n",
    "# Replace outliers in specified columns with mean\n",
    "for col in ['na', 'al', 'si']:\n",
    "    mean_val = df_1[col].mean()\n",
    "    df_1[col] = df_1[col].apply(lambda x: mean_val if x < df_1[col].quantile(0.25) - 3*(df_1[col].quantile(0.75)-df_1[col].quantile(0.25)) or x > df_1[col].quantile(0.75) + 3*(df_1[col].quantile(0.75)-df_1[col].quantile(0.25)) else x)\n",
    "\n",
    "df_1.describe()"
   ]
  },
  {
   "cell_type": "code",
   "execution_count": 23,
   "id": "cdb07bde-eec1-4ed8-82fd-6b634c538d74",
   "metadata": {},
   "outputs": [
    {
     "name": "stdout",
     "output_type": "stream",
     "text": [
      "ri\n",
      "lower bound: 1.5089774999999999\n",
      "upper bound: 1.5265825000000002\n",
      "skewness for ri: 0.793287706658516\n",
      "Outliers in ri:\n",
      "          ri     na   mg    al     si     k    ca   fe  type\n",
      "47   1.52667  13.99  3.7  0.71  71.57  0.02  9.82  0.1     1\n",
      "110  1.52664  11.23  0.0  0.77  73.21  0.00  8.60  0.0     2\n",
      "--------------------------------------------------\n",
      "na\n",
      "lower bound: 10.2075\n",
      "upper bound: 16.5075\n",
      "skewness for na: -0.035932045011622\n",
      "Outliers in na:\n",
      "Empty DataFrame\n",
      "Columns: [ri, na, mg, al, si, k, ca, fe, type]\n",
      "Index: []\n",
      "--------------------------------------------------\n",
      "mg\n",
      "lower bound: -2.340000000000001\n",
      "upper bound: 8.055000000000001\n",
      "skewness for mg: -1.1525593175802356\n",
      "Outliers in mg:\n",
      "Empty DataFrame\n",
      "Columns: [ri, na, mg, al, si, k, ca, fe, type]\n",
      "Index: []\n",
      "--------------------------------------------------\n",
      "al\n",
      "lower bound: -0.10000000000000053\n",
      "upper bound: 2.9100000000000006\n",
      "skewness for al: 0.5293258932775599\n",
      "Outliers in al:\n",
      "Empty DataFrame\n",
      "Columns: [ri, na, mg, al, si, k, ca, fe, type]\n",
      "Index: []\n",
      "--------------------------------------------------\n",
      "si\n",
      "lower bound: 69.89749999999995\n",
      "upper bound: 75.48000000000005\n",
      "skewness for si: -0.6015506646602067\n",
      "Outliers in si:\n",
      "          ri     na    mg        al     si     k    ca   fe  type\n",
      "163  1.51514  14.01  2.68  1.444907  69.89  1.68  5.87  0.0     5\n",
      "--------------------------------------------------\n",
      "k\n",
      "lower bound: -1.3099999999999998\n",
      "upper bound: 2.0324999999999998\n",
      "skewness for k: 0.6202208895137817\n",
      "Outliers in k:\n",
      "Empty DataFrame\n",
      "Columns: [ri, na, mg, al, si, k, ca, fe, type]\n",
      "Index: []\n",
      "--------------------------------------------------\n",
      "ca\n",
      "lower bound: 5.877500000000003\n",
      "upper bound: 11.407499999999997\n",
      "skewness for ca: 0.7846360670136266\n",
      "Outliers in ca:\n",
      "          ri     na    mg        al     si     k     ca    fe  type\n",
      "103  1.51768  13.80  3.15  0.660000  70.57  0.08  11.64  0.00     2\n",
      "108  1.52222  14.43  0.00  1.000000  72.67  0.10  11.52  0.08     2\n",
      "163  1.51514  14.01  2.68  1.444907  69.89  1.68   5.87  0.00     5\n",
      "165  1.52171  11.56  1.88  1.560000  72.86  0.47  11.41  0.00     5\n",
      "166  1.52151  11.03  1.71  1.560000  73.44  0.58  11.62  0.00     5\n",
      "167  1.51969  12.64  0.00  1.650000  73.75  0.38  11.53  0.00     5\n",
      "186  1.51838  14.32  3.26  2.220000  71.25  1.46   5.79  0.00     7\n",
      "--------------------------------------------------\n",
      "fe\n",
      "lower bound: -0.2925\n",
      "upper bound: 0.39\n",
      "skewness for fe: 1.5751390259623357\n",
      "Outliers in fe:\n",
      "Empty DataFrame\n",
      "Columns: [ri, na, mg, al, si, k, ca, fe, type]\n",
      "Index: []\n",
      "--------------------------------------------------\n",
      "type\n",
      "lower bound: -5.0\n",
      "upper bound: 9.0\n",
      "skewness for type: 1.114915200905486\n",
      "Outliers in type:\n",
      "Empty DataFrame\n",
      "Columns: [ri, na, mg, al, si, k, ca, fe, type]\n",
      "Index: []\n",
      "--------------------------------------------------\n"
     ]
    }
   ],
   "source": [
    "# Check again for Outliers to see if any remain as bounds may have shifted\n",
    "# Loop through each column to calculate IQR and identify extreme outliers\n",
    "for column in df_1.columns:\n",
    "    Q1 = df_1[column].quantile(0.25)\n",
    "    Q3 = df_1[column].quantile(0.75)\n",
    "    IQR = Q3 - Q1\n",
    "    lower_bound = Q1 - 3 * IQR\n",
    "    upper_bound = Q3 + 3 * IQR\n",
    "   \n",
    "    # Identify extreme outliers\n",
    "    outliers[column] = df_1[(df_1[column] < lower_bound) | (df_1[column] > upper_bound)]\n",
    "\n",
    "    #identify skewness \n",
    "    skewness = df_1[column].skew()\n",
    "    \n",
    "    # Print outliers for each column (optional)\n",
    "    print(f\"{column}\")\n",
    "    print(f\"lower bound: {lower_bound}\")\n",
    "    print(f\"upper bound: {upper_bound}\")\n",
    "    print(f\"skewness for {column}: {skewness}\")\n",
    "    print(f\"Outliers in {column}:\")\n",
    "    print(outliers[column])\n",
    "    print(\"-\" * 50)"
   ]
  },
  {
   "cell_type": "code",
   "execution_count": 24,
   "id": "7656bc41-ac93-4150-abf4-1576a7d748b9",
   "metadata": {},
   "outputs": [
    {
     "name": "stdout",
     "output_type": "stream",
     "text": [
      "ri\n",
      "lower bound: 1.5091949999999996\n",
      "upper bound: 1.5262925000000005\n",
      "skewness for ri: 0.5787549329212347\n",
      "Outliers in ri:\n",
      "Empty DataFrame\n",
      "Columns: [ri, na, mg, al, si, k, ca, fe, type]\n",
      "Index: []\n",
      "--------------------------------------------------\n",
      "si\n",
      "lower bound: 70.02749999999995\n",
      "upper bound: 75.38250000000005\n",
      "skewness for si: -0.45352034230822486\n",
      "Outliers in si:\n",
      "          ri        na   mg    al     si    k    ca   fe  type\n",
      "184  1.51115  13.40785  0.0  0.34  75.41  0.0  6.65  0.0     6\n",
      "--------------------------------------------------\n",
      "ca\n",
      "lower bound: 6.1424999999999965\n",
      "upper bound: 11.112500000000002\n",
      "skewness for ca: 0.8910577896870236\n",
      "Outliers in ca:\n",
      "          ri     na    mg    al     si     k     ca    fe  type\n",
      "130  1.52177  13.75  1.01  1.36  72.19  0.33  11.14  0.00     2\n",
      "169  1.51994  13.27  0.00  1.76  73.03  0.47  11.32  0.00     5\n",
      "175  1.52119  12.97  0.33  1.51  73.39  0.13  11.27  0.28     5\n",
      "183  1.51969  14.56  0.00  0.56  73.48  0.00  11.22  0.00     6\n",
      "--------------------------------------------------\n"
     ]
    }
   ],
   "source": [
    "# Skewness has shifted so I will replace the remaining outliers in line with new skewness (mean)\n",
    "# Replace outliers in specified columns with mean\n",
    "for col in ['ri', 'si', 'ca']:\n",
    "    mean_val = df_1[col].mean()\n",
    "    df_1[col] = df_1[col].apply(lambda x: mean_val if x < df_1[col].quantile(0.25) - 3*(df_1[col].quantile(0.75)-df_1[col].quantile(0.25)) or x > df_1[col].quantile(0.75) + 3*(df_1[col].quantile(0.75)-df_1[col].quantile(0.25)) else x)\n",
    "\n",
    "#Check outliers again to see if bounds shifting created more\n",
    "for column in ['ri', 'si', 'ca']:\n",
    "    Q1 = df_1[column].quantile(0.25)\n",
    "    Q3 = df_1[column].quantile(0.75)\n",
    "    IQR = Q3 - Q1\n",
    "    lower_bound = Q1 - 3 * IQR\n",
    "    upper_bound = Q3 + 3 * IQR\n",
    "   \n",
    "    # Identify extreme outliers\n",
    "    outliers[column] = df_1[(df_1[column] < lower_bound) | (df_1[column] > upper_bound)]\n",
    "\n",
    "    #identify skewness \n",
    "    skewness = df_1[column].skew()\n",
    "    \n",
    "    # Print outliers for each column (optional)\n",
    "    print(f\"{column}\")\n",
    "    print(f\"lower bound: {lower_bound}\")\n",
    "    print(f\"upper bound: {upper_bound}\")\n",
    "    print(f\"skewness for {column}: {skewness}\")\n",
    "    print(f\"Outliers in {column}:\")\n",
    "    print(outliers[column])\n",
    "    print(\"-\" * 50)"
   ]
  },
  {
   "cell_type": "code",
   "execution_count": 25,
   "id": "b839a6f4-e21c-4434-9e05-2ce8d1306324",
   "metadata": {},
   "outputs": [
    {
     "name": "stdout",
     "output_type": "stream",
     "text": [
      "si\n",
      "lower bound: 70.04999999999997\n",
      "upper bound: 75.35250000000002\n",
      "skewness for si: -0.7297420435970599\n",
      "Outliers in si:\n",
      "Empty DataFrame\n",
      "Columns: [ri, na, mg, al, si, k, ca, fe, type]\n",
      "Index: []\n",
      "--------------------------------------------------\n",
      "ca\n",
      "lower bound: 6.314999999999994\n",
      "upper bound: 10.882500000000006\n",
      "skewness for ca: 0.4907904704419645\n",
      "Outliers in ca:\n",
      "          ri     na   mg    al     si    k     ca   fe  type\n",
      "109  1.51818  13.72  0.0  0.56  74.45  0.0  10.99  0.0     2\n",
      "--------------------------------------------------\n"
     ]
    }
   ],
   "source": [
    "# Still mean for si and ca - re-run\n",
    "# Replace outliers in specified columns with mean\n",
    "for col in ['si', 'ca']:\n",
    "    mean_val = df_1[col].mean()\n",
    "    df_1[col] = df_1[col].apply(lambda x: mean_val if x < df_1[col].quantile(0.25) - 3*(df_1[col].quantile(0.75)-df_1[col].quantile(0.25)) or x > df_1[col].quantile(0.75) + 3*(df_1[col].quantile(0.75)-df_1[col].quantile(0.25)) else x)\n",
    "\n",
    "\n",
    "for column in ['si', 'ca']:\n",
    "    Q1 = df_1[column].quantile(0.25)\n",
    "    Q3 = df_1[column].quantile(0.75)\n",
    "    IQR = Q3 - Q1\n",
    "    lower_bound = Q1 - 3 * IQR\n",
    "    upper_bound = Q3 + 3 * IQR\n",
    "   \n",
    "    # Identify extreme outliers\n",
    "    outliers[column] = df_1[(df_1[column] < lower_bound) | (df_1[column] > upper_bound)]\n",
    "\n",
    "    #identify skewness \n",
    "    skewness = df_1[column].skew()\n",
    "    \n",
    "    # Print outliers for each column (optional)\n",
    "    print(f\"{column}\")\n",
    "    print(f\"lower bound: {lower_bound}\")\n",
    "    print(f\"upper bound: {upper_bound}\")\n",
    "    print(f\"skewness for {column}: {skewness}\")\n",
    "    print(f\"Outliers in {column}:\")\n",
    "    print(outliers[column])\n",
    "    print(\"-\" * 50)"
   ]
  },
  {
   "cell_type": "code",
   "execution_count": 26,
   "id": "67301703-64b5-4e5a-8058-c304216a5e18",
   "metadata": {},
   "outputs": [
    {
     "name": "stdout",
     "output_type": "stream",
     "text": [
      "ca\n",
      "lower bound: 6.367499999999994\n",
      "upper bound: 10.812500000000005\n",
      "Outliers in ca:\n",
      "skewness for ca: 0.3743974094483944\n",
      "          ri     na   mg    al     si    k     ca   fe  type\n",
      "182  1.51916  14.15  0.0  2.09  72.74  0.0  10.88  0.0     6\n",
      "--------------------------------------------------\n"
     ]
    }
   ],
   "source": [
    "# Replace outliers in specified columns with mean\n",
    "for col in ['ca']:\n",
    "    mean_val = df_1[col].mean()\n",
    "    df_1[col] = df_1[col].apply(lambda x: mean_val if x < df_1[col].quantile(0.25) - 3*(df_1[col].quantile(0.75)-df_1[col].quantile(0.25)) or x > df_1[col].quantile(0.75) + 3*(df_1[col].quantile(0.75)-df_1[col].quantile(0.25)) else x)\n",
    "\n",
    "\n",
    "for column in ['ca']:\n",
    "    Q1 = df_1[column].quantile(0.25)\n",
    "    Q3 = df_1[column].quantile(0.75)\n",
    "    IQR = Q3 - Q1\n",
    "    lower_bound = Q1 - 3 * IQR\n",
    "    upper_bound = Q3 + 3 * IQR\n",
    "   \n",
    "    # Identify extreme outliers\n",
    "    outliers[column] = df_1[(df_1[column] < lower_bound) | (df_1[column] > upper_bound)]\n",
    "\n",
    "    #identify skewness \n",
    "    skewness = df_1[column].skew()\n",
    "    \n",
    "    # Print outliers for each column (optional)\n",
    "    print(f\"{column}\")\n",
    "    print(f\"lower bound: {lower_bound}\")\n",
    "    print(f\"upper bound: {upper_bound}\")\n",
    "    print(f\"Outliers in {column}:\")\n",
    "    print(f\"skewness for {column}: {skewness}\")\n",
    "    print(outliers[column])\n",
    "    print(\"-\" * 50)"
   ]
  },
  {
   "cell_type": "code",
   "execution_count": 27,
   "id": "6f052f4e-e47b-450e-b066-df44fcb67350",
   "metadata": {},
   "outputs": [
    {
     "name": "stdout",
     "output_type": "stream",
     "text": [
      "ca\n",
      "lower bound: 6.397499999999994\n",
      "upper bound: 10.772500000000006\n",
      "skewness for ca: 0.2553563012117775\n",
      "Outliers in ca:\n",
      "         ri     na   mg    al     si     k     ca   fe  type\n",
      "104  1.5241  13.83  2.9  1.17  71.15  0.08  10.79  0.0     2\n",
      "--------------------------------------------------\n"
     ]
    }
   ],
   "source": [
    "# Replace outliers in specified columns with mean\n",
    "for col in ['ca']:\n",
    "    mean_val = df_1[col].mean()\n",
    "    df_1[col] = df_1[col].apply(lambda x: mean_val if x < df_1[col].quantile(0.25) - 3*(df_1[col].quantile(0.75)-df_1[col].quantile(0.25)) or x > df_1[col].quantile(0.75) + 3*(df_1[col].quantile(0.75)-df_1[col].quantile(0.25)) else x)\n",
    "\n",
    "\n",
    "for column in ['ca']:\n",
    "    Q1 = df_1[column].quantile(0.25)\n",
    "    Q3 = df_1[column].quantile(0.75)\n",
    "    IQR = Q3 - Q1\n",
    "    lower_bound = Q1 - 3 * IQR\n",
    "    upper_bound = Q3 + 3 * IQR\n",
    "   \n",
    "    # Identify extreme outliers\n",
    "    outliers[column] = df_1[(df_1[column] < lower_bound) | (df_1[column] > upper_bound)]\n",
    "\n",
    "    #identify skewness \n",
    "    skewness = df_1[column].skew()\n",
    "    \n",
    "    # Print outliers for each column (optional)\n",
    "    print(f\"{column}\")\n",
    "    print(f\"lower bound: {lower_bound}\")\n",
    "    print(f\"upper bound: {upper_bound}\")\n",
    "    print(f\"skewness for {column}: {skewness}\")\n",
    "    print(f\"Outliers in {column}:\")\n",
    "    print(outliers[column])\n",
    "    print(\"-\" * 50)"
   ]
  },
  {
   "cell_type": "code",
   "execution_count": 28,
   "id": "7d03f9a7-bcb7-456b-9372-a8f367064027",
   "metadata": {},
   "outputs": [
    {
     "name": "stdout",
     "output_type": "stream",
     "text": [
      "ca\n",
      "lower bound: 6.419999999999995\n",
      "upper bound: 10.742500000000005\n",
      "skewness for ca: 0.130429985627489\n",
      "Outliers in ca:\n",
      "Empty DataFrame\n",
      "Columns: [ri, na, mg, al, si, k, ca, fe, type]\n",
      "Index: []\n",
      "--------------------------------------------------\n"
     ]
    }
   ],
   "source": [
    "# Replace outliers in specified columns with mean\n",
    "for col in ['ca']:\n",
    "    mean_val = df_1[col].mean()\n",
    "    df_1[col] = df_1[col].apply(lambda x: mean_val if x < df_1[col].quantile(0.25) - 3*(df_1[col].quantile(0.75)-df_1[col].quantile(0.25)) or x > df_1[col].quantile(0.75) + 3*(df_1[col].quantile(0.75)-df_1[col].quantile(0.25)) else x)\n",
    "\n",
    "\n",
    "for column in ['ca']:\n",
    "    Q1 = df_1[column].quantile(0.25)\n",
    "    Q3 = df_1[column].quantile(0.75)\n",
    "    IQR = Q3 - Q1\n",
    "    lower_bound = Q1 - 3 * IQR\n",
    "    upper_bound = Q3 + 3 * IQR\n",
    "   \n",
    "    # Identify extreme outliers\n",
    "    outliers[column] = df_1[(df_1[column] < lower_bound) | (df_1[column] > upper_bound)]\n",
    "\n",
    "    #identify skewness \n",
    "    skewness = df_1[column].skew()\n",
    "    \n",
    "    # Print outliers for each column (optional)\n",
    "    print(f\"{column}\")\n",
    "    print(f\"lower bound: {lower_bound}\")\n",
    "    print(f\"upper bound: {upper_bound}\")\n",
    "    print(f\"skewness for {column}: {skewness}\")\n",
    "    print(f\"Outliers in {column}:\")\n",
    "    print(outliers[column])\n",
    "    print(\"-\" * 50)"
   ]
  },
  {
   "cell_type": "markdown",
   "id": "a3c933b6-4fbe-4b65-9ae5-2c72b19b469c",
   "metadata": {},
   "source": [
    "## Build Model: Dense Neural Network"
   ]
  },
  {
   "cell_type": "code",
   "execution_count": 29,
   "id": "0b55af62-db86-407c-ba26-71e2fcdb1da0",
   "metadata": {},
   "outputs": [],
   "source": [
    "# Split features and target variable\n",
    "\n",
    "X = df_1.drop('type', axis=1)\n",
    "y = df_1['type']"
   ]
  },
  {
   "cell_type": "code",
   "execution_count": 30,
   "id": "61ea82c2-ae3b-4a76-9a36-7b230324bdc6",
   "metadata": {},
   "outputs": [],
   "source": [
    "# Split the data into training and testing sets\n",
    "\n",
    "X_train, X_test, y_train, y_test = train_test_split(X, y, test_size=0.3, random_state=42)"
   ]
  },
  {
   "cell_type": "code",
   "execution_count": 31,
   "id": "b5f50a28-a349-4bb1-b590-adeac1d47ac6",
   "metadata": {},
   "outputs": [],
   "source": [
    "## Scale the features\n",
    "\n",
    "scaler = StandardScaler()\n",
    "X_train_scaled = scaler.fit_transform(X_train)\n",
    "X_test_scaled = scaler.transform(X_test)"
   ]
  },
  {
   "cell_type": "code",
   "execution_count": 57,
   "id": "d12af7f6-bd7c-42b4-86d3-9872c6b76135",
   "metadata": {},
   "outputs": [
    {
     "data": {
      "image/png": "[encoded data removed]",
      "text/plain": [
       "<Figure size 400x200 with 1 Axes>"
      ]
     },
     "metadata": {},
     "output_type": "display_data"
    }
   ],
   "source": [
    "# check 'type' column for imbalance\n",
    "\n",
    "type_imb = df_1['type']\n",
    "\n",
    "plt.figure(figsize=(4,2))\n",
    "sns.countplot(x=type_imb, data=df_1, palette = 'Set3')\n",
    "plt.title(\"Type of glass distribution of values\")\n",
    "plt.show()"
   ]
  },
  {
   "cell_type": "code",
   "execution_count": 32,
   "id": "8232ba93-8c44-4400-9299-e3c8fea65d8b",
   "metadata": {},
   "outputs": [],
   "source": [
    "# Apply SMOTE to balance the classes in the training set\n",
    "smote = SMOTE(random_state=42)\n",
    "X_train_s, y_train_s = smote.fit_resample(X_train_scaled, y_train)"
   ]
  },
  {
   "cell_type": "code",
   "execution_count": 59,
   "id": "04802018-1585-442d-b0e0-b19a7d72f735",
   "metadata": {},
   "outputs": [
    {
     "data": {
      "image/png": "[encoded data removed]",
      "text/plain": [
       "<Figure size 400x200 with 1 Axes>"
      ]
     },
     "metadata": {},
     "output_type": "display_data"
    }
   ],
   "source": [
    "# check 'type' column after SMOTE\n",
    "\n",
    "type_imb = df_1['type']\n",
    "\n",
    "plt.figure(figsize=(4,2))\n",
    "sns.countplot(x=y_train_s, palette = 'Set3')\n",
    "plt.title(\"Type of glass distribution after SMOTE\")\n",
    "plt.show()"
   ]
  },
  {
   "cell_type": "code",
   "execution_count": 33,
   "id": "f23cecf6-013c-4dee-898e-7f408e163c59",
   "metadata": {},
   "outputs": [],
   "source": [
    "#not acceptiong reshape code so change to numpy array\n",
    "y_train_s = y_train_s.to_numpy()\n",
    "y_test = y_test.to_numpy()\n"
   ]
  },
  {
   "cell_type": "code",
   "execution_count": 34,
   "id": "c67d0c62-d2b1-42c3-b9f2-b36630637db4",
   "metadata": {},
   "outputs": [],
   "source": [
    "#One hot encoding on multiclass target variable\n",
    "encoder = OneHotEncoder(sparse_output=False)\n",
    "y_train_s_encoded = encoder.fit_transform(y_train_s.reshape(-1,1))\n",
    "y_test_encoded = encoder.transform(y_test.reshape(-1,1))\n"
   ]
  },
  {
   "cell_type": "code",
   "execution_count": 35,
   "id": "555d6504-d0ee-4231-8cb9-62f6427971ae",
   "metadata": {},
   "outputs": [],
   "source": [
    "# Build the model\n",
    "def build_dens_model(activation='relu', optimizer='adam',neurons=64, dropout_rate=0.2, l2_rate=0.01):\n",
    "    model = Sequential()\n",
    "\n",
    "    ## First hidden layer with ReLU Activation and regularization\n",
    "    model.add(layers.Dense(neurons, input_dim=X_train_s.shape[1], activation=activation, kernel_regularizer=regularizers.l2(l2_rate))) \n",
    "                           #activation=activation, input_shape=(X_train.shape[1],), kernel_regularizer=regularizers.l2(0.01)))\n",
    "\n",
    "    \n",
    "    # Add dropout layer\n",
    "    model.add(layers.Dropout(dropout_rate))\n",
    "\n",
    "    #Add second layer\n",
    "    model.add(layers.Dense(neurons, activation=activation,\n",
    "                          kernel_regularizer=regularizers.l2(l2_rate))) # Second hidden layer \n",
    "    \n",
    "    \n",
    "    # Add dropout layer\n",
    "    model.add(layers.Dropout(dropout_rate))\n",
    "    \n",
    "    #Add Output layer (try softmax of sigmoid\n",
    "    model.add(layers.Dense(6, activation='softmax')) # 6 outputs for 6 classes \n",
    "\n",
    "    \n",
    "    #Choose Optimizer\n",
    "    if optimizer == 'adam': optimizer = Adam()\n",
    "    elif optimizer == 'sgd': optimizer = SGD()\n",
    "    #Compile the model\n",
    "    model.compile(optimizer=optimizer, loss='categorical_crossentropy', metrics=['accuracy'])\n",
    "    \n",
    "    return model\n",
    "\n"
   ]
  },
  {
   "cell_type": "code",
   "execution_count": 36,
   "id": "b5f43fe0-faf4-46b7-bc01-de2ebc606487",
   "metadata": {},
   "outputs": [
    {
     "data": {
      "text/html": [
       "<pre style=\"white-space:pre;overflow-x:auto;line-height:normal;font-family:Menlo,'DejaVu Sans Mono',consolas,'Courier New',monospace\"><span style=\"font-weight: bold\">Model: \"sequential\"</span>\n",
       "</pre>\n"
      ],
      "text/plain": [
       "\u001b[1mModel: \"sequential\"\u001b[0m\n"
      ]
     },
     "metadata": {},
     "output_type": "display_data"
    },
    {
     "data": {
      "text/html": [
       "<pre style=\"white-space:pre;overflow-x:auto;line-height:normal;font-family:Menlo,'DejaVu Sans Mono',consolas,'Courier New',monospace\">┏━━━━━━━━━━━━━━━━━━━━━━━━━━━━━━━━━━━━━━┳━━━━━━━━━━━━━━━━━━━━━━━━━━━━━┳━━━━━━━━━━━━━━━━━┓\n",
       "┃<span style=\"font-weight: bold\"> Layer (type)                         </span>┃<span style=\"font-weight: bold\"> Output Shape                </span>┃<span style=\"font-weight: bold\">         Param # </span>┃\n",
       "┡━━━━━━━━━━━━━━━━━━━━━━━━━━━━━━━━━━━━━━╇━━━━━━━━━━━━━━━━━━━━━━━━━━━━━╇━━━━━━━━━━━━━━━━━┩\n",
       "│ dense (<span style=\"color: #0087ff; text-decoration-color: #0087ff\">Dense</span>)                        │ (<span style=\"color: #00d7ff; text-decoration-color: #00d7ff\">None</span>, <span style=\"color: #00af00; text-decoration-color: #00af00\">64</span>)                  │             <span style=\"color: #00af00; text-decoration-color: #00af00\">576</span> │\n",
       "├──────────────────────────────────────┼─────────────────────────────┼─────────────────┤\n",
       "│ dropout (<span style=\"color: #0087ff; text-decoration-color: #0087ff\">Dropout</span>)                    │ (<span style=\"color: #00d7ff; text-decoration-color: #00d7ff\">None</span>, <span style=\"color: #00af00; text-decoration-color: #00af00\">64</span>)                  │               <span style=\"color: #00af00; text-decoration-color: #00af00\">0</span> │\n",
       "├──────────────────────────────────────┼─────────────────────────────┼─────────────────┤\n",
       "│ dense_1 (<span style=\"color: #0087ff; text-decoration-color: #0087ff\">Dense</span>)                      │ (<span style=\"color: #00d7ff; text-decoration-color: #00d7ff\">None</span>, <span style=\"color: #00af00; text-decoration-color: #00af00\">64</span>)                  │           <span style=\"color: #00af00; text-decoration-color: #00af00\">4,160</span> │\n",
       "├──────────────────────────────────────┼─────────────────────────────┼─────────────────┤\n",
       "│ dropout_1 (<span style=\"color: #0087ff; text-decoration-color: #0087ff\">Dropout</span>)                  │ (<span style=\"color: #00d7ff; text-decoration-color: #00d7ff\">None</span>, <span style=\"color: #00af00; text-decoration-color: #00af00\">64</span>)                  │               <span style=\"color: #00af00; text-decoration-color: #00af00\">0</span> │\n",
       "├──────────────────────────────────────┼─────────────────────────────┼─────────────────┤\n",
       "│ dense_2 (<span style=\"color: #0087ff; text-decoration-color: #0087ff\">Dense</span>)                      │ (<span style=\"color: #00d7ff; text-decoration-color: #00d7ff\">None</span>, <span style=\"color: #00af00; text-decoration-color: #00af00\">6</span>)                   │             <span style=\"color: #00af00; text-decoration-color: #00af00\">390</span> │\n",
       "└──────────────────────────────────────┴─────────────────────────────┴─────────────────┘\n",
       "</pre>\n"
      ],
      "text/plain": [
       "┏━━━━━━━━━━━━━━━━━━━━━━━━━━━━━━━━━━━━━━┳━━━━━━━━━━━━━━━━━━━━━━━━━━━━━┳━━━━━━━━━━━━━━━━━┓\n",
       "┃\u001b[1m \u001b[0m\u001b[1mLayer (type)                        \u001b[0m\u001b[1m \u001b[0m┃\u001b[1m \u001b[0m\u001b[1mOutput Shape               \u001b[0m\u001b[1m \u001b[0m┃\u001b[1m \u001b[0m\u001b[1m        Param #\u001b[0m\u001b[1m \u001b[0m┃\n",
       "┡━━━━━━━━━━━━━━━━━━━━━━━━━━━━━━━━━━━━━━╇━━━━━━━━━━━━━━━━━━━━━━━━━━━━━╇━━━━━━━━━━━━━━━━━┩\n",
       "│ dense (\u001b[38;5;33mDense\u001b[0m)                        │ (\u001b[38;5;45mNone\u001b[0m, \u001b[38;5;34m64\u001b[0m)                  │             \u001b[38;5;34m576\u001b[0m │\n",
       "├──────────────────────────────────────┼─────────────────────────────┼─────────────────┤\n",
       "│ dropout (\u001b[38;5;33mDropout\u001b[0m)                    │ (\u001b[38;5;45mNone\u001b[0m, \u001b[38;5;34m64\u001b[0m)                  │               \u001b[38;5;34m0\u001b[0m │\n",
       "├──────────────────────────────────────┼─────────────────────────────┼─────────────────┤\n",
       "│ dense_1 (\u001b[38;5;33mDense\u001b[0m)                      │ (\u001b[38;5;45mNone\u001b[0m, \u001b[38;5;34m64\u001b[0m)                  │           \u001b[38;5;34m4,160\u001b[0m │\n",
       "├──────────────────────────────────────┼─────────────────────────────┼─────────────────┤\n",
       "│ dropout_1 (\u001b[38;5;33mDropout\u001b[0m)                  │ (\u001b[38;5;45mNone\u001b[0m, \u001b[38;5;34m64\u001b[0m)                  │               \u001b[38;5;34m0\u001b[0m │\n",
       "├──────────────────────────────────────┼─────────────────────────────┼─────────────────┤\n",
       "│ dense_2 (\u001b[38;5;33mDense\u001b[0m)                      │ (\u001b[38;5;45mNone\u001b[0m, \u001b[38;5;34m6\u001b[0m)                   │             \u001b[38;5;34m390\u001b[0m │\n",
       "└──────────────────────────────────────┴─────────────────────────────┴─────────────────┘\n"
      ]
     },
     "metadata": {},
     "output_type": "display_data"
    },
    {
     "data": {
      "text/html": [
       "<pre style=\"white-space:pre;overflow-x:auto;line-height:normal;font-family:Menlo,'DejaVu Sans Mono',consolas,'Courier New',monospace\"><span style=\"font-weight: bold\"> Total params: </span><span style=\"color: #00af00; text-decoration-color: #00af00\">5,126</span> (20.02 KB)\n",
       "</pre>\n"
      ],
      "text/plain": [
       "\u001b[1m Total params: \u001b[0m\u001b[38;5;34m5,126\u001b[0m (20.02 KB)\n"
      ]
     },
     "metadata": {},
     "output_type": "display_data"
    },
    {
     "data": {
      "text/html": [
       "<pre style=\"white-space:pre;overflow-x:auto;line-height:normal;font-family:Menlo,'DejaVu Sans Mono',consolas,'Courier New',monospace\"><span style=\"font-weight: bold\"> Trainable params: </span><span style=\"color: #00af00; text-decoration-color: #00af00\">5,126</span> (20.02 KB)\n",
       "</pre>\n"
      ],
      "text/plain": [
       "\u001b[1m Trainable params: \u001b[0m\u001b[38;5;34m5,126\u001b[0m (20.02 KB)\n"
      ]
     },
     "metadata": {},
     "output_type": "display_data"
    },
    {
     "data": {
      "text/html": [
       "<pre style=\"white-space:pre;overflow-x:auto;line-height:normal;font-family:Menlo,'DejaVu Sans Mono',consolas,'Courier New',monospace\"><span style=\"font-weight: bold\"> Non-trainable params: </span><span style=\"color: #00af00; text-decoration-color: #00af00\">0</span> (0.00 B)\n",
       "</pre>\n"
      ],
      "text/plain": [
       "\u001b[1m Non-trainable params: \u001b[0m\u001b[38;5;34m0\u001b[0m (0.00 B)\n"
      ]
     },
     "metadata": {},
     "output_type": "display_data"
    }
   ],
   "source": [
    "# Build\n",
    "model = build_dens_model(activation='relu', optimizer='adam',neurons=64, dropout_rate=0.2, l2_rate=0.01)\n",
    "\n",
    "model.summary()"
   ]
  },
  {
   "cell_type": "code",
   "execution_count": 48,
   "id": "2f6d82a7-89a3-4224-a2e9-d59a38f79437",
   "metadata": {},
   "outputs": [],
   "source": [
    "from keras.callbacks import EarlyStopping\n",
    "\n",
    "early_stopping = EarlyStopping(monitor='val_loss', patience=5, restore_best_weights=True)"
   ]
  },
  {
   "cell_type": "code",
   "execution_count": 38,
   "id": "da83d56e-f707-49c7-90c4-3e541428017f",
   "metadata": {},
   "outputs": [
    {
     "name": "stdout",
     "output_type": "stream",
     "text": [
      "Epoch 1/500\n",
      "\u001b[1m8/8\u001b[0m \u001b[32m━━━━━━━━━━━━━━━━━━━━\u001b[0m\u001b[37m\u001b[0m \u001b[1m2s\u001b[0m 47ms/step - accuracy: 0.1617 - loss: 2.6082 - val_accuracy: 0.3438 - val_loss: 2.4085\n",
      "Epoch 2/500\n",
      "\u001b[1m8/8\u001b[0m \u001b[32m━━━━━━━━━━━━━━━━━━━━\u001b[0m\u001b[37m\u001b[0m \u001b[1m0s\u001b[0m 10ms/step - accuracy: 0.2915 - loss: 2.4728 - val_accuracy: 0.5469 - val_loss: 2.3142\n",
      "Epoch 3/500\n",
      "\u001b[1m8/8\u001b[0m \u001b[32m━━━━━━━━━━━━━━━━━━━━\u001b[0m\u001b[37m\u001b[0m \u001b[1m0s\u001b[0m 8ms/step - accuracy: 0.4185 - loss: 2.2923 - val_accuracy: 0.7031 - val_loss: 2.2219\n",
      "Epoch 4/500\n",
      "\u001b[1m8/8\u001b[0m \u001b[32m━━━━━━━━━━━━━━━━━━━━\u001b[0m\u001b[37m\u001b[0m \u001b[1m0s\u001b[0m 14ms/step - accuracy: 0.5092 - loss: 2.1510 - val_accuracy: 0.6719 - val_loss: 2.1355\n",
      "Epoch 5/500\n",
      "\u001b[1m8/8\u001b[0m \u001b[32m━━━━━━━━━━━━━━━━━━━━\u001b[0m\u001b[37m\u001b[0m \u001b[1m0s\u001b[0m 11ms/step - accuracy: 0.5650 - loss: 2.0829 - val_accuracy: 0.6719 - val_loss: 2.0496\n",
      "Epoch 6/500\n",
      "\u001b[1m8/8\u001b[0m \u001b[32m━━━━━━━━━━━━━━━━━━━━\u001b[0m\u001b[37m\u001b[0m \u001b[1m0s\u001b[0m 16ms/step - accuracy: 0.6124 - loss: 1.9478 - val_accuracy: 0.6875 - val_loss: 1.9563\n",
      "Epoch 7/500\n",
      "\u001b[1m8/8\u001b[0m \u001b[32m━━━━━━━━━━━━━━━━━━━━\u001b[0m\u001b[37m\u001b[0m \u001b[1m0s\u001b[0m 11ms/step - accuracy: 0.5840 - loss: 1.9244 - val_accuracy: 0.7188 - val_loss: 1.8473\n",
      "Epoch 8/500\n",
      "\u001b[1m8/8\u001b[0m \u001b[32m━━━━━━━━━━━━━━━━━━━━\u001b[0m\u001b[37m\u001b[0m \u001b[1m0s\u001b[0m 13ms/step - accuracy: 0.6033 - loss: 1.7955 - val_accuracy: 0.7656 - val_loss: 1.7468\n",
      "Epoch 9/500\n",
      "\u001b[1m8/8\u001b[0m \u001b[32m━━━━━━━━━━━━━━━━━━━━\u001b[0m\u001b[37m\u001b[0m \u001b[1m0s\u001b[0m 12ms/step - accuracy: 0.6702 - loss: 1.7053 - val_accuracy: 0.7656 - val_loss: 1.6509\n",
      "Epoch 10/500\n",
      "\u001b[1m8/8\u001b[0m \u001b[32m━━━━━━━━━━━━━━━━━━━━\u001b[0m\u001b[37m\u001b[0m \u001b[1m0s\u001b[0m 9ms/step - accuracy: 0.6476 - loss: 1.6343 - val_accuracy: 0.7656 - val_loss: 1.5563\n",
      "Epoch 11/500\n",
      "\u001b[1m8/8\u001b[0m \u001b[32m━━━━━━━━━━━━━━━━━━━━\u001b[0m\u001b[37m\u001b[0m \u001b[1m0s\u001b[0m 9ms/step - accuracy: 0.6473 - loss: 1.6189 - val_accuracy: 0.7656 - val_loss: 1.4843\n",
      "Epoch 12/500\n",
      "\u001b[1m8/8\u001b[0m \u001b[32m━━━━━━━━━━━━━━━━━━━━\u001b[0m\u001b[37m\u001b[0m \u001b[1m0s\u001b[0m 9ms/step - accuracy: 0.6503 - loss: 1.5722 - val_accuracy: 0.7812 - val_loss: 1.4025\n",
      "Epoch 13/500\n",
      "\u001b[1m8/8\u001b[0m \u001b[32m━━━━━━━━━━━━━━━━━━━━\u001b[0m\u001b[37m\u001b[0m \u001b[1m0s\u001b[0m 11ms/step - accuracy: 0.7675 - loss: 1.4766 - val_accuracy: 0.8125 - val_loss: 1.3299\n",
      "Epoch 14/500\n",
      "\u001b[1m8/8\u001b[0m \u001b[32m━━━━━━━━━━━━━━━━━━━━\u001b[0m\u001b[37m\u001b[0m \u001b[1m0s\u001b[0m 9ms/step - accuracy: 0.7331 - loss: 1.3776 - val_accuracy: 0.8125 - val_loss: 1.2707\n",
      "Epoch 15/500\n",
      "\u001b[1m8/8\u001b[0m \u001b[32m━━━━━━━━━━━━━━━━━━━━\u001b[0m\u001b[37m\u001b[0m \u001b[1m0s\u001b[0m 11ms/step - accuracy: 0.7175 - loss: 1.4193 - val_accuracy: 0.8125 - val_loss: 1.2205\n",
      "Epoch 16/500\n",
      "\u001b[1m8/8\u001b[0m \u001b[32m━━━━━━━━━━━━━━━━━━━━\u001b[0m\u001b[37m\u001b[0m \u001b[1m0s\u001b[0m 11ms/step - accuracy: 0.6978 - loss: 1.3738 - val_accuracy: 0.8281 - val_loss: 1.1847\n",
      "Epoch 17/500\n",
      "\u001b[1m8/8\u001b[0m \u001b[32m━━━━━━━━━━━━━━━━━━━━\u001b[0m\u001b[37m\u001b[0m \u001b[1m0s\u001b[0m 11ms/step - accuracy: 0.7054 - loss: 1.3501 - val_accuracy: 0.8281 - val_loss: 1.1493\n",
      "Epoch 18/500\n",
      "\u001b[1m8/8\u001b[0m \u001b[32m━━━━━━━━━━━━━━━━━━━━\u001b[0m\u001b[37m\u001b[0m \u001b[1m0s\u001b[0m 11ms/step - accuracy: 0.7224 - loss: 1.3219 - val_accuracy: 0.8594 - val_loss: 1.0940\n",
      "Epoch 19/500\n",
      "\u001b[1m8/8\u001b[0m \u001b[32m━━━━━━━━━━━━━━━━━━━━\u001b[0m\u001b[37m\u001b[0m \u001b[1m0s\u001b[0m 9ms/step - accuracy: 0.7548 - loss: 1.2538 - val_accuracy: 0.8594 - val_loss: 1.0491\n",
      "Epoch 20/500\n",
      "\u001b[1m8/8\u001b[0m \u001b[32m━━━━━━━━━━━━━━━━━━━━\u001b[0m\u001b[37m\u001b[0m \u001b[1m0s\u001b[0m 9ms/step - accuracy: 0.7752 - loss: 1.1563 - val_accuracy: 0.8594 - val_loss: 1.0045\n",
      "Epoch 21/500\n",
      "\u001b[1m8/8\u001b[0m \u001b[32m━━━━━━━━━━━━━━━━━━━━\u001b[0m\u001b[37m\u001b[0m \u001b[1m0s\u001b[0m 9ms/step - accuracy: 0.7872 - loss: 1.1783 - val_accuracy: 0.8594 - val_loss: 0.9780\n",
      "Epoch 22/500\n",
      "\u001b[1m8/8\u001b[0m \u001b[32m━━━━━━━━━━━━━━━━━━━━\u001b[0m\u001b[37m\u001b[0m \u001b[1m0s\u001b[0m 12ms/step - accuracy: 0.7914 - loss: 1.1382 - val_accuracy: 0.8594 - val_loss: 0.9512\n",
      "Epoch 23/500\n",
      "\u001b[1m8/8\u001b[0m \u001b[32m━━━━━━━━━━━━━━━━━━━━\u001b[0m\u001b[37m\u001b[0m \u001b[1m0s\u001b[0m 13ms/step - accuracy: 0.7635 - loss: 1.1154 - val_accuracy: 0.8594 - val_loss: 0.9418\n",
      "Epoch 24/500\n",
      "\u001b[1m8/8\u001b[0m \u001b[32m━━━━━━━━━━━━━━━━━━━━\u001b[0m\u001b[37m\u001b[0m \u001b[1m0s\u001b[0m 11ms/step - accuracy: 0.7314 - loss: 1.1356 - val_accuracy: 0.8594 - val_loss: 0.9085\n",
      "Epoch 25/500\n",
      "\u001b[1m8/8\u001b[0m \u001b[32m━━━━━━━━━━━━━━━━━━━━\u001b[0m\u001b[37m\u001b[0m \u001b[1m0s\u001b[0m 19ms/step - accuracy: 0.7846 - loss: 1.1229 - val_accuracy: 0.8594 - val_loss: 0.8795\n",
      "Epoch 26/500\n",
      "\u001b[1m8/8\u001b[0m \u001b[32m━━━━━━━━━━━━━━━━━━━━\u001b[0m\u001b[37m\u001b[0m \u001b[1m0s\u001b[0m 24ms/step - accuracy: 0.7760 - loss: 1.0904 - val_accuracy: 0.8750 - val_loss: 0.8613\n",
      "Epoch 27/500\n",
      "\u001b[1m8/8\u001b[0m \u001b[32m━━━━━━━━━━━━━━━━━━━━\u001b[0m\u001b[37m\u001b[0m \u001b[1m0s\u001b[0m 15ms/step - accuracy: 0.8164 - loss: 1.0228 - val_accuracy: 0.8750 - val_loss: 0.8487\n",
      "Epoch 28/500\n",
      "\u001b[1m8/8\u001b[0m \u001b[32m━━━━━━━━━━━━━━━━━━━━\u001b[0m\u001b[37m\u001b[0m \u001b[1m0s\u001b[0m 11ms/step - accuracy: 0.8399 - loss: 1.0288 - val_accuracy: 0.8594 - val_loss: 0.8350\n",
      "Epoch 29/500\n",
      "\u001b[1m8/8\u001b[0m \u001b[32m━━━━━━━━━━━━━━━━━━━━\u001b[0m\u001b[37m\u001b[0m \u001b[1m0s\u001b[0m 10ms/step - accuracy: 0.8182 - loss: 1.0791 - val_accuracy: 0.8594 - val_loss: 0.7985\n",
      "Epoch 30/500\n",
      "\u001b[1m8/8\u001b[0m \u001b[32m━━━━━━━━━━━━━━━━━━━━\u001b[0m\u001b[37m\u001b[0m \u001b[1m0s\u001b[0m 11ms/step - accuracy: 0.7695 - loss: 1.0490 - val_accuracy: 0.8750 - val_loss: 0.7844\n",
      "Epoch 31/500\n",
      "\u001b[1m8/8\u001b[0m \u001b[32m━━━━━━━━━━━━━━━━━━━━\u001b[0m\u001b[37m\u001b[0m \u001b[1m0s\u001b[0m 11ms/step - accuracy: 0.7896 - loss: 0.9956 - val_accuracy: 0.8594 - val_loss: 0.7872\n",
      "Epoch 32/500\n",
      "\u001b[1m8/8\u001b[0m \u001b[32m━━━━━━━━━━━━━━━━━━━━\u001b[0m\u001b[37m\u001b[0m \u001b[1m0s\u001b[0m 11ms/step - accuracy: 0.8262 - loss: 0.9774 - val_accuracy: 0.8750 - val_loss: 0.7590\n",
      "Epoch 33/500\n",
      "\u001b[1m8/8\u001b[0m \u001b[32m━━━━━━━━━━━━━━━━━━━━\u001b[0m\u001b[37m\u001b[0m \u001b[1m0s\u001b[0m 12ms/step - accuracy: 0.8076 - loss: 0.9653 - val_accuracy: 0.8750 - val_loss: 0.7503\n",
      "Epoch 34/500\n",
      "\u001b[1m8/8\u001b[0m \u001b[32m━━━━━━━━━━━━━━━━━━━━\u001b[0m\u001b[37m\u001b[0m \u001b[1m0s\u001b[0m 11ms/step - accuracy: 0.8213 - loss: 0.9874 - val_accuracy: 0.8750 - val_loss: 0.7488\n",
      "Epoch 35/500\n",
      "\u001b[1m8/8\u001b[0m \u001b[32m━━━━━━━━━━━━━━━━━━━━\u001b[0m\u001b[37m\u001b[0m \u001b[1m0s\u001b[0m 11ms/step - accuracy: 0.8169 - loss: 0.9500 - val_accuracy: 0.8750 - val_loss: 0.7184\n",
      "Epoch 36/500\n",
      "\u001b[1m8/8\u001b[0m \u001b[32m━━━━━━━━━━━━━━━━━━━━\u001b[0m\u001b[37m\u001b[0m \u001b[1m0s\u001b[0m 9ms/step - accuracy: 0.7824 - loss: 0.9595 - val_accuracy: 0.8750 - val_loss: 0.7105\n",
      "Epoch 37/500\n",
      "\u001b[1m8/8\u001b[0m \u001b[32m━━━━━━━━━━━━━━━━━━━━\u001b[0m\u001b[37m\u001b[0m \u001b[1m0s\u001b[0m 9ms/step - accuracy: 0.7786 - loss: 0.9514 - val_accuracy: 0.8750 - val_loss: 0.7026\n",
      "Epoch 38/500\n",
      "\u001b[1m8/8\u001b[0m \u001b[32m━━━━━━━━━━━━━━━━━━━━\u001b[0m\u001b[37m\u001b[0m \u001b[1m0s\u001b[0m 9ms/step - accuracy: 0.8340 - loss: 0.9041 - val_accuracy: 0.8750 - val_loss: 0.6922\n",
      "Epoch 39/500\n",
      "\u001b[1m8/8\u001b[0m \u001b[32m━━━━━━━━━━━━━━━━━━━━\u001b[0m\u001b[37m\u001b[0m \u001b[1m0s\u001b[0m 15ms/step - accuracy: 0.8301 - loss: 0.9146 - val_accuracy: 0.9062 - val_loss: 0.6599\n",
      "Epoch 40/500\n",
      "\u001b[1m8/8\u001b[0m \u001b[32m━━━━━━━━━━━━━━━━━━━━\u001b[0m\u001b[37m\u001b[0m \u001b[1m0s\u001b[0m 10ms/step - accuracy: 0.8258 - loss: 0.8979 - val_accuracy: 0.9375 - val_loss: 0.6440\n",
      "Epoch 41/500\n",
      "\u001b[1m8/8\u001b[0m \u001b[32m━━━━━━━━━━━━━━━━━━━━\u001b[0m\u001b[37m\u001b[0m \u001b[1m0s\u001b[0m 22ms/step - accuracy: 0.8236 - loss: 0.8864 - val_accuracy: 0.9375 - val_loss: 0.6235\n",
      "Epoch 42/500\n",
      "\u001b[1m8/8\u001b[0m \u001b[32m━━━━━━━━━━━━━━━━━━━━\u001b[0m\u001b[37m\u001b[0m \u001b[1m0s\u001b[0m 15ms/step - accuracy: 0.8092 - loss: 0.8980 - val_accuracy: 0.9375 - val_loss: 0.6288\n",
      "Epoch 43/500\n",
      "\u001b[1m8/8\u001b[0m \u001b[32m━━━━━━━━━━━━━━━━━━━━\u001b[0m\u001b[37m\u001b[0m \u001b[1m0s\u001b[0m 11ms/step - accuracy: 0.8306 - loss: 0.9225 - val_accuracy: 0.9375 - val_loss: 0.6174\n",
      "Epoch 44/500\n",
      "\u001b[1m8/8\u001b[0m \u001b[32m━━━━━━━━━━━━━━━━━━━━\u001b[0m\u001b[37m\u001b[0m \u001b[1m0s\u001b[0m 11ms/step - accuracy: 0.8322 - loss: 0.8731 - val_accuracy: 0.9375 - val_loss: 0.6035\n",
      "Epoch 45/500\n",
      "\u001b[1m8/8\u001b[0m \u001b[32m━━━━━━━━━━━━━━━━━━━━\u001b[0m\u001b[37m\u001b[0m \u001b[1m0s\u001b[0m 11ms/step - accuracy: 0.8239 - loss: 0.8798 - val_accuracy: 0.9375 - val_loss: 0.5905\n",
      "Epoch 46/500\n",
      "\u001b[1m8/8\u001b[0m \u001b[32m━━━━━━━━━━━━━━━━━━━━\u001b[0m\u001b[37m\u001b[0m \u001b[1m0s\u001b[0m 11ms/step - accuracy: 0.8614 - loss: 0.8205 - val_accuracy: 0.9375 - val_loss: 0.5973\n",
      "Epoch 47/500\n",
      "\u001b[1m8/8\u001b[0m \u001b[32m━━━━━━━━━━━━━━━━━━━━\u001b[0m\u001b[37m\u001b[0m \u001b[1m0s\u001b[0m 11ms/step - accuracy: 0.8391 - loss: 0.8504 - val_accuracy: 0.9375 - val_loss: 0.6002\n",
      "Epoch 48/500\n",
      "\u001b[1m8/8\u001b[0m \u001b[32m━━━━━━━━━━━━━━━━━━━━\u001b[0m\u001b[37m\u001b[0m \u001b[1m0s\u001b[0m 9ms/step - accuracy: 0.8269 - loss: 0.7964 - val_accuracy: 0.9375 - val_loss: 0.5820\n",
      "Epoch 49/500\n",
      "\u001b[1m8/8\u001b[0m \u001b[32m━━━━━━━━━━━━━━━━━━━━\u001b[0m\u001b[37m\u001b[0m \u001b[1m0s\u001b[0m 11ms/step - accuracy: 0.8112 - loss: 0.8353 - val_accuracy: 0.9375 - val_loss: 0.5724\n",
      "Epoch 50/500\n",
      "\u001b[1m8/8\u001b[0m \u001b[32m━━━━━━━━━━━━━━━━━━━━\u001b[0m\u001b[37m\u001b[0m \u001b[1m0s\u001b[0m 11ms/step - accuracy: 0.8114 - loss: 0.8293 - val_accuracy: 0.9375 - val_loss: 0.5637\n",
      "Epoch 51/500\n",
      "\u001b[1m8/8\u001b[0m \u001b[32m━━━━━━━━━━━━━━━━━━━━\u001b[0m\u001b[37m\u001b[0m \u001b[1m0s\u001b[0m 9ms/step - accuracy: 0.7949 - loss: 0.7900 - val_accuracy: 0.9375 - val_loss: 0.5583\n",
      "Epoch 52/500\n",
      "\u001b[1m8/8\u001b[0m \u001b[32m━━━━━━━━━━━━━━━━━━━━\u001b[0m\u001b[37m\u001b[0m \u001b[1m0s\u001b[0m 11ms/step - accuracy: 0.8271 - loss: 0.7904 - val_accuracy: 0.9375 - val_loss: 0.5326\n",
      "Epoch 53/500\n",
      "\u001b[1m8/8\u001b[0m \u001b[32m━━━━━━━━━━━━━━━━━━━━\u001b[0m\u001b[37m\u001b[0m \u001b[1m0s\u001b[0m 9ms/step - accuracy: 0.8513 - loss: 0.7738 - val_accuracy: 0.9375 - val_loss: 0.5206\n",
      "Epoch 54/500\n",
      "\u001b[1m8/8\u001b[0m \u001b[32m━━━━━━━━━━━━━━━━━━━━\u001b[0m\u001b[37m\u001b[0m \u001b[1m0s\u001b[0m 10ms/step - accuracy: 0.8666 - loss: 0.7499 - val_accuracy: 0.9375 - val_loss: 0.5200\n",
      "Epoch 55/500\n",
      "\u001b[1m8/8\u001b[0m \u001b[32m━━━━━━━━━━━━━━━━━━━━\u001b[0m\u001b[37m\u001b[0m \u001b[1m0s\u001b[0m 9ms/step - accuracy: 0.8335 - loss: 0.7700 - val_accuracy: 0.9375 - val_loss: 0.5340\n",
      "Epoch 56/500\n",
      "\u001b[1m8/8\u001b[0m \u001b[32m━━━━━━━━━━━━━━━━━━━━\u001b[0m\u001b[37m\u001b[0m \u001b[1m0s\u001b[0m 7ms/step - accuracy: 0.8258 - loss: 0.7609 - val_accuracy: 0.9375 - val_loss: 0.5360\n",
      "Epoch 57/500\n",
      "\u001b[1m8/8\u001b[0m \u001b[32m━━━━━━━━━━━━━━━━━━━━\u001b[0m\u001b[37m\u001b[0m \u001b[1m0s\u001b[0m 8ms/step - accuracy: 0.8099 - loss: 0.7842 - val_accuracy: 0.9375 - val_loss: 0.5195\n",
      "Epoch 58/500\n",
      "\u001b[1m8/8\u001b[0m \u001b[32m━━━━━━━━━━━━━━━━━━━━\u001b[0m\u001b[37m\u001b[0m \u001b[1m0s\u001b[0m 9ms/step - accuracy: 0.7728 - loss: 0.8030 - val_accuracy: 0.9375 - val_loss: 0.5208\n",
      "Epoch 59/500\n",
      "\u001b[1m8/8\u001b[0m \u001b[32m━━━━━━━━━━━━━━━━━━━━\u001b[0m\u001b[37m\u001b[0m \u001b[1m0s\u001b[0m 10ms/step - accuracy: 0.8270 - loss: 0.7983 - val_accuracy: 0.9375 - val_loss: 0.5016\n",
      "Epoch 60/500\n",
      "\u001b[1m8/8\u001b[0m \u001b[32m━━━━━━━━━━━━━━━━━━━━\u001b[0m\u001b[37m\u001b[0m \u001b[1m0s\u001b[0m 14ms/step - accuracy: 0.8598 - loss: 0.7453 - val_accuracy: 0.9375 - val_loss: 0.4906\n",
      "Epoch 61/500\n",
      "\u001b[1m8/8\u001b[0m \u001b[32m━━━━━━━━━━━━━━━━━━━━\u001b[0m\u001b[37m\u001b[0m \u001b[1m0s\u001b[0m 8ms/step - accuracy: 0.8792 - loss: 0.7050 - val_accuracy: 0.9375 - val_loss: 0.4990\n",
      "Epoch 62/500\n",
      "\u001b[1m8/8\u001b[0m \u001b[32m━━━━━━━━━━━━━━━━━━━━\u001b[0m\u001b[37m\u001b[0m \u001b[1m0s\u001b[0m 9ms/step - accuracy: 0.8419 - loss: 0.7683 - val_accuracy: 0.9375 - val_loss: 0.5006\n",
      "Epoch 63/500\n",
      "\u001b[1m8/8\u001b[0m \u001b[32m━━━━━━━━━━━━━━━━━━━━\u001b[0m\u001b[37m\u001b[0m \u001b[1m0s\u001b[0m 9ms/step - accuracy: 0.8718 - loss: 0.6883 - val_accuracy: 0.9375 - val_loss: 0.4995\n",
      "Epoch 64/500\n",
      "\u001b[1m8/8\u001b[0m \u001b[32m━━━━━━━━━━━━━━━━━━━━\u001b[0m\u001b[37m\u001b[0m \u001b[1m0s\u001b[0m 8ms/step - accuracy: 0.8854 - loss: 0.7014 - val_accuracy: 0.9375 - val_loss: 0.4827\n",
      "Epoch 65/500\n",
      "\u001b[1m8/8\u001b[0m \u001b[32m━━━━━━━━━━━━━━━━━━━━\u001b[0m\u001b[37m\u001b[0m \u001b[1m0s\u001b[0m 9ms/step - accuracy: 0.8333 - loss: 0.7445 - val_accuracy: 0.9375 - val_loss: 0.4714\n",
      "Epoch 66/500\n",
      "\u001b[1m8/8\u001b[0m \u001b[32m━━━━━━━━━━━━━━━━━━━━\u001b[0m\u001b[37m\u001b[0m \u001b[1m0s\u001b[0m 10ms/step - accuracy: 0.8705 - loss: 0.6865 - val_accuracy: 0.9375 - val_loss: 0.4729\n",
      "Epoch 67/500\n",
      "\u001b[1m8/8\u001b[0m \u001b[32m━━━━━━━━━━━━━━━━━━━━\u001b[0m\u001b[37m\u001b[0m \u001b[1m0s\u001b[0m 8ms/step - accuracy: 0.8980 - loss: 0.6840 - val_accuracy: 0.9375 - val_loss: 0.4806\n",
      "Epoch 68/500\n",
      "\u001b[1m8/8\u001b[0m \u001b[32m━━━━━━━━━━━━━━━━━━━━\u001b[0m\u001b[37m\u001b[0m \u001b[1m0s\u001b[0m 9ms/step - accuracy: 0.8707 - loss: 0.6838 - val_accuracy: 0.9375 - val_loss: 0.4865\n",
      "Epoch 69/500\n",
      "\u001b[1m8/8\u001b[0m \u001b[32m━━━━━━━━━━━━━━━━━━━━\u001b[0m\u001b[37m\u001b[0m \u001b[1m0s\u001b[0m 10ms/step - accuracy: 0.8741 - loss: 0.7705 - val_accuracy: 0.9375 - val_loss: 0.4722\n",
      "Epoch 70/500\n",
      "\u001b[1m8/8\u001b[0m \u001b[32m━━━━━━━━━━━━━━━━━━━━\u001b[0m\u001b[37m\u001b[0m \u001b[1m0s\u001b[0m 8ms/step - accuracy: 0.8482 - loss: 0.7302 - val_accuracy: 0.9375 - val_loss: 0.4662\n",
      "Epoch 71/500\n",
      "\u001b[1m8/8\u001b[0m \u001b[32m━━━━━━━━━━━━━━━━━━━━\u001b[0m\u001b[37m\u001b[0m \u001b[1m0s\u001b[0m 9ms/step - accuracy: 0.8248 - loss: 0.7030 - val_accuracy: 0.9375 - val_loss: 0.4666\n",
      "Epoch 72/500\n",
      "\u001b[1m8/8\u001b[0m \u001b[32m━━━━━━━━━━━━━━━━━━━━\u001b[0m\u001b[37m\u001b[0m \u001b[1m0s\u001b[0m 9ms/step - accuracy: 0.8822 - loss: 0.6840 - val_accuracy: 0.9375 - val_loss: 0.4713\n",
      "Epoch 73/500\n",
      "\u001b[1m8/8\u001b[0m \u001b[32m━━━━━━━━━━━━━━━━━━━━\u001b[0m\u001b[37m\u001b[0m \u001b[1m0s\u001b[0m 7ms/step - accuracy: 0.8599 - loss: 0.7135 - val_accuracy: 0.9375 - val_loss: 0.4610\n",
      "Epoch 74/500\n",
      "\u001b[1m8/8\u001b[0m \u001b[32m━━━━━━━━━━━━━━━━━━━━\u001b[0m\u001b[37m\u001b[0m \u001b[1m0s\u001b[0m 12ms/step - accuracy: 0.8618 - loss: 0.7207 - val_accuracy: 0.9375 - val_loss: 0.4559\n",
      "Epoch 75/500\n",
      "\u001b[1m8/8\u001b[0m \u001b[32m━━━━━━━━━━━━━━━━━━━━\u001b[0m\u001b[37m\u001b[0m \u001b[1m0s\u001b[0m 8ms/step - accuracy: 0.8794 - loss: 0.6755 - val_accuracy: 0.9375 - val_loss: 0.4681\n",
      "Epoch 76/500\n",
      "\u001b[1m8/8\u001b[0m \u001b[32m━━━━━━━━━━━━━━━━━━━━\u001b[0m\u001b[37m\u001b[0m \u001b[1m0s\u001b[0m 8ms/step - accuracy: 0.8710 - loss: 0.6661 - val_accuracy: 0.9375 - val_loss: 0.4561\n",
      "Epoch 77/500\n",
      "\u001b[1m8/8\u001b[0m \u001b[32m━━━━━━━━━━━━━━━━━━━━\u001b[0m\u001b[37m\u001b[0m \u001b[1m0s\u001b[0m 10ms/step - accuracy: 0.8177 - loss: 0.7232 - val_accuracy: 0.9375 - val_loss: 0.4525\n",
      "Epoch 78/500\n",
      "\u001b[1m8/8\u001b[0m \u001b[32m━━━━━━━━━━━━━━━━━━━━\u001b[0m\u001b[37m\u001b[0m \u001b[1m0s\u001b[0m 8ms/step - accuracy: 0.8424 - loss: 0.7136 - val_accuracy: 0.9375 - val_loss: 0.4496\n",
      "Epoch 79/500\n",
      "\u001b[1m8/8\u001b[0m \u001b[32m━━━━━━━━━━━━━━━━━━━━\u001b[0m\u001b[37m\u001b[0m \u001b[1m0s\u001b[0m 9ms/step - accuracy: 0.9134 - loss: 0.6496 - val_accuracy: 0.9375 - val_loss: 0.4498\n",
      "Epoch 80/500\n",
      "\u001b[1m8/8\u001b[0m \u001b[32m━━━━━━━━━━━━━━━━━━━━\u001b[0m\u001b[37m\u001b[0m \u001b[1m0s\u001b[0m 12ms/step - accuracy: 0.8676 - loss: 0.6526 - val_accuracy: 0.9375 - val_loss: 0.4568\n",
      "Epoch 81/500\n",
      "\u001b[1m8/8\u001b[0m \u001b[32m━━━━━━━━━━━━━━━━━━━━\u001b[0m\u001b[37m\u001b[0m \u001b[1m0s\u001b[0m 12ms/step - accuracy: 0.8613 - loss: 0.6711 - val_accuracy: 0.9375 - val_loss: 0.4463\n",
      "Epoch 82/500\n",
      "\u001b[1m8/8\u001b[0m \u001b[32m━━━━━━━━━━━━━━━━━━━━\u001b[0m\u001b[37m\u001b[0m \u001b[1m0s\u001b[0m 9ms/step - accuracy: 0.8725 - loss: 0.6353 - val_accuracy: 0.9375 - val_loss: 0.4451\n",
      "Epoch 83/500\n",
      "\u001b[1m8/8\u001b[0m \u001b[32m━━━━━━━━━━━━━━━━━━━━\u001b[0m\u001b[37m\u001b[0m \u001b[1m0s\u001b[0m 7ms/step - accuracy: 0.8744 - loss: 0.6221 - val_accuracy: 0.9375 - val_loss: 0.4385\n",
      "Epoch 84/500\n",
      "\u001b[1m8/8\u001b[0m \u001b[32m━━━━━━━━━━━━━━━━━━━━\u001b[0m\u001b[37m\u001b[0m \u001b[1m0s\u001b[0m 9ms/step - accuracy: 0.8579 - loss: 0.6644 - val_accuracy: 0.9375 - val_loss: 0.4455\n",
      "Epoch 85/500\n",
      "\u001b[1m8/8\u001b[0m \u001b[32m━━━━━━━━━━━━━━━━━━━━\u001b[0m\u001b[37m\u001b[0m \u001b[1m0s\u001b[0m 8ms/step - accuracy: 0.8201 - loss: 0.7088 - val_accuracy: 0.9375 - val_loss: 0.4334\n",
      "Epoch 86/500\n",
      "\u001b[1m8/8\u001b[0m \u001b[32m━━━━━━━━━━━━━━━━━━━━\u001b[0m\u001b[37m\u001b[0m \u001b[1m0s\u001b[0m 9ms/step - accuracy: 0.8678 - loss: 0.6876 - val_accuracy: 0.9531 - val_loss: 0.4180\n",
      "Epoch 87/500\n",
      "\u001b[1m8/8\u001b[0m \u001b[32m━━━━━━━━━━━━━━━━━━━━\u001b[0m\u001b[37m\u001b[0m \u001b[1m0s\u001b[0m 8ms/step - accuracy: 0.8802 - loss: 0.6349 - val_accuracy: 0.9531 - val_loss: 0.4112\n",
      "Epoch 88/500\n",
      "\u001b[1m8/8\u001b[0m \u001b[32m━━━━━━━━━━━━━━━━━━━━\u001b[0m\u001b[37m\u001b[0m \u001b[1m0s\u001b[0m 8ms/step - accuracy: 0.8559 - loss: 0.6357 - val_accuracy: 0.9688 - val_loss: 0.4057\n",
      "Epoch 89/500\n",
      "\u001b[1m8/8\u001b[0m \u001b[32m━━━━━━━━━━━━━━━━━━━━\u001b[0m\u001b[37m\u001b[0m \u001b[1m0s\u001b[0m 9ms/step - accuracy: 0.8928 - loss: 0.6338 - val_accuracy: 0.9688 - val_loss: 0.4083\n",
      "Epoch 90/500\n",
      "\u001b[1m8/8\u001b[0m \u001b[32m━━━━━━━━━━━━━━━━━━━━\u001b[0m\u001b[37m\u001b[0m \u001b[1m0s\u001b[0m 9ms/step - accuracy: 0.8652 - loss: 0.6267 - val_accuracy: 0.9375 - val_loss: 0.4178\n",
      "Epoch 91/500\n",
      "\u001b[1m8/8\u001b[0m \u001b[32m━━━━━━━━━━━━━━━━━━━━\u001b[0m\u001b[37m\u001b[0m \u001b[1m0s\u001b[0m 8ms/step - accuracy: 0.8849 - loss: 0.6171 - val_accuracy: 0.9375 - val_loss: 0.4271\n",
      "Epoch 92/500\n",
      "\u001b[1m8/8\u001b[0m \u001b[32m━━━━━━━━━━━━━━━━━━━━\u001b[0m\u001b[37m\u001b[0m \u001b[1m0s\u001b[0m 9ms/step - accuracy: 0.8550 - loss: 0.6315 - val_accuracy: 0.9531 - val_loss: 0.4150\n",
      "Epoch 93/500\n",
      "\u001b[1m8/8\u001b[0m \u001b[32m━━━━━━━━━━━━━━━━━━━━\u001b[0m\u001b[37m\u001b[0m \u001b[1m0s\u001b[0m 8ms/step - accuracy: 0.8910 - loss: 0.6210 - val_accuracy: 0.9531 - val_loss: 0.4058\n"
     ]
    },
    {
     "data": {
      "text/plain": [
       "<keras.src.callbacks.history.History at 0x239ab7ed4c0>"
      ]
     },
     "execution_count": 38,
     "metadata": {},
     "output_type": "execute_result"
    }
   ],
   "source": [
    "# Train the model\n",
    "model.fit(X_train_s, y_train_s_encoded, epochs=500, batch_size=32, validation_split=0.2,callbacks=[early_stopping])"
   ]
  },
  {
   "cell_type": "code",
   "execution_count": 39,
   "id": "51fb55a6-a044-43f3-9bd9-911a0676c2f7",
   "metadata": {},
   "outputs": [
    {
     "name": "stdout",
     "output_type": "stream",
     "text": [
      "3/3 - 0s - 75ms/step - accuracy: 0.6769 - loss: 1.1585\n",
      "\n",
      "Test accuracy: 0.6769230961799622\n"
     ]
    }
   ],
   "source": [
    "# Evaluate the model\n",
    "test_loss, test_acc = model.evaluate(X_test_scaled, y_test_encoded, verbose=2)\n",
    "print('\\nTest accuracy:', test_acc)"
   ]
  },
  {
   "cell_type": "code",
   "execution_count": 40,
   "id": "390cf438-ca28-4440-8f45-e822ad6ce7de",
   "metadata": {},
   "outputs": [
    {
     "name": "stdout",
     "output_type": "stream",
     "text": [
      "\u001b[1m3/3\u001b[0m \u001b[32m━━━━━━━━━━━━━━━━━━━━\u001b[0m\u001b[37m\u001b[0m \u001b[1m0s\u001b[0m 33ms/step\n"
     ]
    }
   ],
   "source": [
    "# Make predictions\n",
    "y_pred = model.predict(X_test_scaled)"
   ]
  },
  {
   "cell_type": "code",
   "execution_count": 41,
   "id": "931c9fdf-3852-4589-8433-d039a3218815",
   "metadata": {},
   "outputs": [
    {
     "name": "stdout",
     "output_type": "stream",
     "text": [
      "    Actual  Predicted\n",
      "0        0          0\n",
      "1        5          5\n",
      "2        0          0\n",
      "3        5          5\n",
      "4        1          1\n",
      "..     ...        ...\n",
      "60       0          1\n",
      "61       1          1\n",
      "62       0          2\n",
      "63       5          5\n",
      "64       3          3\n",
      "\n",
      "[65 rows x 2 columns]\n"
     ]
    }
   ],
   "source": [
    "# Create a DataFrame to display actual and predicted values\n",
    "results = pd.DataFrame({'Actual': np.argmax(y_test_encoded, axis=1), 'Predicted': np.argmax(y_pred, axis=1)})\n",
    "print(results)"
   ]
  },
  {
   "cell_type": "code",
   "execution_count": 42,
   "id": "04793008-9860-424a-98b0-1beb32fc3df0",
   "metadata": {},
   "outputs": [
    {
     "name": "stdout",
     "output_type": "stream",
     "text": [
      "              precision    recall  f1-score   support\n",
      "\n",
      "           0       0.72      0.68      0.70        19\n",
      "           1       0.70      0.61      0.65        23\n",
      "           2       0.43      0.75      0.55         4\n",
      "           3       0.62      0.83      0.71         6\n",
      "           4       0.33      0.33      0.33         3\n",
      "           5       0.89      0.80      0.84        10\n",
      "\n",
      "    accuracy                           0.68        65\n",
      "   macro avg       0.62      0.67      0.63        65\n",
      "weighted avg       0.70      0.68      0.68        65\n",
      "\n"
     ]
    }
   ],
   "source": [
    "# Classification Report prior to GridSearch\n",
    "y_pred_c = np.argmax(y_pred, axis=1) \n",
    "\n",
    "# Convert true labels from one hot coding to class labels\n",
    "y_test_c = np.argmax(y_test_encoded,  axis=1)\n",
    "\n",
    "print(classification_report(y_test_c,y_pred_c))"
   ]
  },
  {
   "cell_type": "markdown",
   "id": "4ceec5da-c321-4162-a984-7c4e5edd2df6",
   "metadata": {},
   "source": [
    "## GridsearchCV"
   ]
  },
  {
   "cell_type": "code",
   "execution_count": 43,
   "id": "c1fe032d-be20-453e-908b-dfe5d1d2e666",
   "metadata": {},
   "outputs": [],
   "source": [
    "param_grid = {\n",
    "    'model__activation': ['relu', 'tanh','sigmoid','selu','elu'], # activation function\n",
    "    'model__neurons':[32, 64, 128, 256, 512], # Wider range\n",
    "    'model__optimizer': ['adam', 'sgd', 'rmsprop','adagrad'], # optimizers\n",
    "        \n",
    "}"
   ]
  },
  {
   "cell_type": "code",
   "execution_count": 44,
   "id": "4a4d5c40-4e90-499d-bc7d-ab07d6527889",
   "metadata": {},
   "outputs": [],
   "source": [
    "# Wrap the model with KerasClassifier\n",
    "keras_model = KerasClassifier(build_fn=build_dens_model, epochs=50, batch_size=32, verbose=0)"
   ]
  },
  {
   "cell_type": "code",
   "execution_count": 45,
   "id": "f6c801b3-c526-4b61-9a4b-0f0c96c647d1",
   "metadata": {},
   "outputs": [],
   "source": [
    "#set up GridSearchCV with a Stratified Fold \n",
    "from sklearn.model_selection import KFold\n",
    "\n",
    "cv = KFold(n_splits=5)\n",
    "grid_search = GridSearchCV(estimator = keras_model, param_grid = param_grid, cv = cv, n_jobs = -1, verbose = 1, scoring='accuracy')"
   ]
  },
  {
   "cell_type": "code",
   "execution_count": 46,
   "id": "1632fbd7-1dfb-4f5c-87db-6613e27899cc",
   "metadata": {},
   "outputs": [
    {
     "name": "stdout",
     "output_type": "stream",
     "text": [
      "Fitting 5 folds for each of 100 candidates, totalling 500 fits\n",
      "Best hyperparameters: {'model__activation': 'relu', 'model__neurons': 512, 'model__optimizer': 'adam'}\n",
      "Best Accuracy (cv): 0.775\n",
      "Test Accuracy: 0.6615\n"
     ]
    }
   ],
   "source": [
    "# fit the model with GridSearchCV\n",
    "grid_search.fit(X_train_s, y_train_s_encoded,callbacks=[early_stopping])\n",
    "\n",
    "\n",
    "# Print best parameters from GridSearchCV\n",
    "print(f\"Best hyperparameters: {grid_search.best_params_}\")\n",
    "print(f\"Best Accuracy (cv): {grid_search.best_score_}\")\n",
    "\n",
    "#Evaluate the best model on the test set\n",
    "best_model = grid_search.best_estimator_\n",
    "\n",
    "test_accuracy = best_model.score(X_test_scaled, y_test_encoded)\n",
    "print(f\"Test Accuracy: {test_accuracy:.4f}\")\n"
   ]
  },
  {
   "cell_type": "code",
   "execution_count": 47,
   "id": "adf7cda9-24e0-47f4-9684-a0e30e034f7f",
   "metadata": {},
   "outputs": [
    {
     "name": "stdout",
     "output_type": "stream",
     "text": [
      "              precision    recall  f1-score   support\n",
      "\n",
      "           0       0.72      0.68      0.70        19\n",
      "           1       0.70      0.61      0.65        23\n",
      "           2       0.43      0.75      0.55         4\n",
      "           3       0.62      0.83      0.71         6\n",
      "           4       0.33      0.33      0.33         3\n",
      "           5       0.89      0.80      0.84        10\n",
      "\n",
      "    accuracy                           0.68        65\n",
      "   macro avg       0.62      0.67      0.63        65\n",
      "weighted avg       0.70      0.68      0.68        65\n",
      "\n"
     ]
    }
   ],
   "source": [
    "# Classification Report prior to GridSearch\n",
    "y_pred_class = np.argmax(y_pred, axis=1) \n",
    "\n",
    "# Convert true labels from one hot coding to class labels\n",
    "y_test_class = np.argmax(y_test_encoded,  axis=1)\n",
    "\n",
    "print(classification_report(y_test_class,y_pred_class))"
   ]
  },
  {
   "cell_type": "code",
   "execution_count": null,
   "id": "2715f86d-486d-4fdf-bd70-983f0588f756",
   "metadata": {},
   "outputs": [],
   "source": []
  }
 ],
 "metadata": {
  "kernelspec": {
   "display_name": "Python 3 (ipykernel)",
   "language": "python",
   "name": "python3"
  },
  "language_info": {
   "codemirror_mode": {
    "name": "ipython",
    "version": 3
   },
   "file_extension": ".py",
   "mimetype": "text/x-python",
   "name": "python",
   "nbconvert_exporter": "python",
   "pygments_lexer": "ipython3",
   "version": "3.12.4"
  }
 },
 "nbformat": 4,
 "nbformat_minor": 5
}
