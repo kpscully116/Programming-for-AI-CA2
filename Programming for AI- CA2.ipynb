{
 "cells": [
  {
   "cell_type": "markdown",
   "id": "3200fef1-76ba-4224-b6bc-523aff6047f9",
   "metadata": {
    "jp-MarkdownHeadingCollapsed": true
   },
   "source": [
    "## Import and Key Findings on Dataset"
   ]
  },
  {
   "cell_type": "code",
   "execution_count": 1,
   "id": "fde03479-b160-4b6b-abc5-3f686e1e194e",
   "metadata": {},
   "outputs": [],
   "source": [
    "#!pip install keras\n",
    "#!pip install tensorflow\n",
    "#!pip install scikeras"
   ]
  },
  {
   "cell_type": "code",
   "execution_count": 2,
   "id": "d9076d0e-6989-40c6-b6c3-101735cc67b2",
   "metadata": {},
   "outputs": [],
   "source": [
    "#Libraries\n",
    "from sklearn.base import BaseEstimator, ClassifierMixin\n",
    "from keras.models import Sequential\n",
    "from keras.layers import Dense, Dropout\n",
    "from keras.optimizers import Adam\n",
    "\n",
    "import numpy as np\n",
    "import pandas as pd\n",
    "import tensorflow as tf\n",
    "import seaborn as sns\n",
    "import matplotlib.pyplot as plt\n",
    "\n",
    "from tensorflow.keras import models, layers, regularizers\n",
    "from tensorflow.keras.models import Sequential\n",
    "from tensorflow.keras.optimizers import Adam, SGD\n",
    "from tensorflow.keras.layers import Dense, Dropout\n",
    "from scikeras.wrappers import KerasClassifier\n",
    "from sklearn.model_selection import StratifiedKFold, train_test_split, GridSearchCV\n",
    "from sklearn.preprocessing import StandardScaler, OneHotEncoder\n",
    "from imblearn.over_sampling import SMOTE\n",
    "from sklearn.metrics import classification_report\n",
    "\n",
    "# To ignore warnings\n",
    "import warnings\n",
    "warnings.filterwarnings(\"ignore\")"
   ]
  },
  {
   "cell_type": "code",
   "execution_count": 3,
   "id": "0425c422-e1b5-4644-a6f5-ef421219aa98",
   "metadata": {
    "scrolled": true
   },
   "outputs": [
    {
     "data": {
      "text/html": [
       "<div>\n",
       "<style scoped>\n",
       "    .dataframe tbody tr th:only-of-type {\n",
       "        vertical-align: middle;\n",
       "    }\n",
       "\n",
       "    .dataframe tbody tr th {\n",
       "        vertical-align: top;\n",
       "    }\n",
       "\n",
       "    .dataframe thead th {\n",
       "        text-align: right;\n",
       "    }\n",
       "</style>\n",
       "<table border=\"1\" class=\"dataframe\">\n",
       "  <thead>\n",
       "    <tr style=\"text-align: right;\">\n",
       "      <th></th>\n",
       "      <th>id</th>\n",
       "      <th>ri</th>\n",
       "      <th>na</th>\n",
       "      <th>mg</th>\n",
       "      <th>al</th>\n",
       "      <th>si</th>\n",
       "      <th>k</th>\n",
       "      <th>ca</th>\n",
       "      <th>ba</th>\n",
       "      <th>fe</th>\n",
       "      <th>type</th>\n",
       "    </tr>\n",
       "  </thead>\n",
       "  <tbody>\n",
       "    <tr>\n",
       "      <th>0</th>\n",
       "      <td>1</td>\n",
       "      <td>1.52101</td>\n",
       "      <td>13.64</td>\n",
       "      <td>4.49</td>\n",
       "      <td>1.10</td>\n",
       "      <td>71.78</td>\n",
       "      <td>0.06</td>\n",
       "      <td>8.75</td>\n",
       "      <td>0.00</td>\n",
       "      <td>0.0</td>\n",
       "      <td>1</td>\n",
       "    </tr>\n",
       "    <tr>\n",
       "      <th>1</th>\n",
       "      <td>2</td>\n",
       "      <td>1.51761</td>\n",
       "      <td>13.89</td>\n",
       "      <td>3.60</td>\n",
       "      <td>1.36</td>\n",
       "      <td>72.73</td>\n",
       "      <td>0.48</td>\n",
       "      <td>7.83</td>\n",
       "      <td>0.00</td>\n",
       "      <td>0.0</td>\n",
       "      <td>1</td>\n",
       "    </tr>\n",
       "    <tr>\n",
       "      <th>2</th>\n",
       "      <td>3</td>\n",
       "      <td>1.51618</td>\n",
       "      <td>13.53</td>\n",
       "      <td>3.55</td>\n",
       "      <td>1.54</td>\n",
       "      <td>72.99</td>\n",
       "      <td>0.39</td>\n",
       "      <td>7.78</td>\n",
       "      <td>0.00</td>\n",
       "      <td>0.0</td>\n",
       "      <td>1</td>\n",
       "    </tr>\n",
       "    <tr>\n",
       "      <th>3</th>\n",
       "      <td>4</td>\n",
       "      <td>1.51766</td>\n",
       "      <td>13.21</td>\n",
       "      <td>3.69</td>\n",
       "      <td>1.29</td>\n",
       "      <td>72.61</td>\n",
       "      <td>0.57</td>\n",
       "      <td>8.22</td>\n",
       "      <td>0.00</td>\n",
       "      <td>0.0</td>\n",
       "      <td>1</td>\n",
       "    </tr>\n",
       "    <tr>\n",
       "      <th>4</th>\n",
       "      <td>5</td>\n",
       "      <td>1.51742</td>\n",
       "      <td>13.27</td>\n",
       "      <td>3.62</td>\n",
       "      <td>1.24</td>\n",
       "      <td>73.08</td>\n",
       "      <td>0.55</td>\n",
       "      <td>8.07</td>\n",
       "      <td>0.00</td>\n",
       "      <td>0.0</td>\n",
       "      <td>1</td>\n",
       "    </tr>\n",
       "    <tr>\n",
       "      <th>...</th>\n",
       "      <td>...</td>\n",
       "      <td>...</td>\n",
       "      <td>...</td>\n",
       "      <td>...</td>\n",
       "      <td>...</td>\n",
       "      <td>...</td>\n",
       "      <td>...</td>\n",
       "      <td>...</td>\n",
       "      <td>...</td>\n",
       "      <td>...</td>\n",
       "      <td>...</td>\n",
       "    </tr>\n",
       "    <tr>\n",
       "      <th>209</th>\n",
       "      <td>210</td>\n",
       "      <td>1.51623</td>\n",
       "      <td>14.14</td>\n",
       "      <td>0.00</td>\n",
       "      <td>2.88</td>\n",
       "      <td>72.61</td>\n",
       "      <td>0.08</td>\n",
       "      <td>9.18</td>\n",
       "      <td>1.06</td>\n",
       "      <td>0.0</td>\n",
       "      <td>7</td>\n",
       "    </tr>\n",
       "    <tr>\n",
       "      <th>210</th>\n",
       "      <td>211</td>\n",
       "      <td>1.51685</td>\n",
       "      <td>14.92</td>\n",
       "      <td>0.00</td>\n",
       "      <td>1.99</td>\n",
       "      <td>73.06</td>\n",
       "      <td>0.00</td>\n",
       "      <td>8.40</td>\n",
       "      <td>1.59</td>\n",
       "      <td>0.0</td>\n",
       "      <td>7</td>\n",
       "    </tr>\n",
       "    <tr>\n",
       "      <th>211</th>\n",
       "      <td>212</td>\n",
       "      <td>1.52065</td>\n",
       "      <td>14.36</td>\n",
       "      <td>0.00</td>\n",
       "      <td>2.02</td>\n",
       "      <td>73.42</td>\n",
       "      <td>0.00</td>\n",
       "      <td>8.44</td>\n",
       "      <td>1.64</td>\n",
       "      <td>0.0</td>\n",
       "      <td>7</td>\n",
       "    </tr>\n",
       "    <tr>\n",
       "      <th>212</th>\n",
       "      <td>213</td>\n",
       "      <td>1.51651</td>\n",
       "      <td>14.38</td>\n",
       "      <td>0.00</td>\n",
       "      <td>1.94</td>\n",
       "      <td>73.61</td>\n",
       "      <td>0.00</td>\n",
       "      <td>8.48</td>\n",
       "      <td>1.57</td>\n",
       "      <td>0.0</td>\n",
       "      <td>7</td>\n",
       "    </tr>\n",
       "    <tr>\n",
       "      <th>213</th>\n",
       "      <td>214</td>\n",
       "      <td>1.51711</td>\n",
       "      <td>14.23</td>\n",
       "      <td>0.00</td>\n",
       "      <td>2.08</td>\n",
       "      <td>73.36</td>\n",
       "      <td>0.00</td>\n",
       "      <td>8.62</td>\n",
       "      <td>1.67</td>\n",
       "      <td>0.0</td>\n",
       "      <td>7</td>\n",
       "    </tr>\n",
       "  </tbody>\n",
       "</table>\n",
       "<p>214 rows × 11 columns</p>\n",
       "</div>"
      ],
      "text/plain": [
       "      id       ri     na    mg    al     si     k    ca    ba   fe  type\n",
       "0      1  1.52101  13.64  4.49  1.10  71.78  0.06  8.75  0.00  0.0     1\n",
       "1      2  1.51761  13.89  3.60  1.36  72.73  0.48  7.83  0.00  0.0     1\n",
       "2      3  1.51618  13.53  3.55  1.54  72.99  0.39  7.78  0.00  0.0     1\n",
       "3      4  1.51766  13.21  3.69  1.29  72.61  0.57  8.22  0.00  0.0     1\n",
       "4      5  1.51742  13.27  3.62  1.24  73.08  0.55  8.07  0.00  0.0     1\n",
       "..   ...      ...    ...   ...   ...    ...   ...   ...   ...  ...   ...\n",
       "209  210  1.51623  14.14  0.00  2.88  72.61  0.08  9.18  1.06  0.0     7\n",
       "210  211  1.51685  14.92  0.00  1.99  73.06  0.00  8.40  1.59  0.0     7\n",
       "211  212  1.52065  14.36  0.00  2.02  73.42  0.00  8.44  1.64  0.0     7\n",
       "212  213  1.51651  14.38  0.00  1.94  73.61  0.00  8.48  1.57  0.0     7\n",
       "213  214  1.51711  14.23  0.00  2.08  73.36  0.00  8.62  1.67  0.0     7\n",
       "\n",
       "[214 rows x 11 columns]"
      ]
     },
     "execution_count": 3,
     "metadata": {},
     "output_type": "execute_result"
    }
   ],
   "source": [
    "#Read CSV file\n",
    "df_1 = pd.read_csv('glass_data.csv')\n",
    "df_1"
   ]
  },
  {
   "cell_type": "code",
   "execution_count": 4,
   "id": "2bf16a39-aa0e-4cff-af81-5102dd27a371",
   "metadata": {},
   "outputs": [
    {
     "name": "stdout",
     "output_type": "stream",
     "text": [
      "<class 'pandas.core.frame.DataFrame'>\n",
      "RangeIndex: 214 entries, 0 to 213\n",
      "Data columns (total 11 columns):\n",
      " #   Column  Non-Null Count  Dtype  \n",
      "---  ------  --------------  -----  \n",
      " 0   id      214 non-null    int64  \n",
      " 1   ri      214 non-null    float64\n",
      " 2   na      214 non-null    float64\n",
      " 3   mg      214 non-null    float64\n",
      " 4   al      214 non-null    float64\n",
      " 5   si      214 non-null    float64\n",
      " 6   k       214 non-null    float64\n",
      " 7   ca      214 non-null    float64\n",
      " 8   ba      214 non-null    float64\n",
      " 9   fe      214 non-null    float64\n",
      " 10  type    214 non-null    int64  \n",
      "dtypes: float64(9), int64(2)\n",
      "memory usage: 18.5 KB\n"
     ]
    }
   ],
   "source": [
    "#Understand categories\n",
    "df_1.info()"
   ]
  },
  {
   "cell_type": "code",
   "execution_count": 5,
   "id": "995c4974-802a-4911-8d7c-b132484a7fa9",
   "metadata": {},
   "outputs": [
    {
     "data": {
      "text/plain": [
       "(214, 11)"
      ]
     },
     "execution_count": 5,
     "metadata": {},
     "output_type": "execute_result"
    }
   ],
   "source": [
    "#Understand columns rows\n",
    "df_1.shape"
   ]
  },
  {
   "cell_type": "markdown",
   "id": "512ab5ea-297d-4bf1-846b-aac109de4021",
   "metadata": {
    "jp-MarkdownHeadingCollapsed": true
   },
   "source": [
    "## Check for null values"
   ]
  },
  {
   "cell_type": "code",
   "execution_count": 6,
   "id": "59422a63-b169-4d28-b0a5-eef24f3c7c12",
   "metadata": {},
   "outputs": [
    {
     "data": {
      "text/plain": [
       "id      0\n",
       "ri      0\n",
       "na      0\n",
       "mg      0\n",
       "al      0\n",
       "si      0\n",
       "k       0\n",
       "ca      0\n",
       "ba      0\n",
       "fe      0\n",
       "type    0\n",
       "dtype: int64"
      ]
     },
     "execution_count": 6,
     "metadata": {},
     "output_type": "execute_result"
    }
   ],
   "source": [
    "#Check for null values\n",
    "df_1.isnull().sum()"
   ]
  },
  {
   "cell_type": "code",
   "execution_count": 7,
   "id": "38100d9d-8c9a-4676-ab3c-85e9f007fbad",
   "metadata": {},
   "outputs": [
    {
     "data": {
      "text/html": [
       "<div>\n",
       "<style scoped>\n",
       "    .dataframe tbody tr th:only-of-type {\n",
       "        vertical-align: middle;\n",
       "    }\n",
       "\n",
       "    .dataframe tbody tr th {\n",
       "        vertical-align: top;\n",
       "    }\n",
       "\n",
       "    .dataframe thead th {\n",
       "        text-align: right;\n",
       "    }\n",
       "</style>\n",
       "<table border=\"1\" class=\"dataframe\">\n",
       "  <thead>\n",
       "    <tr style=\"text-align: right;\">\n",
       "      <th></th>\n",
       "      <th>id</th>\n",
       "      <th>ri</th>\n",
       "      <th>na</th>\n",
       "      <th>mg</th>\n",
       "      <th>al</th>\n",
       "      <th>si</th>\n",
       "      <th>k</th>\n",
       "      <th>ca</th>\n",
       "      <th>ba</th>\n",
       "      <th>fe</th>\n",
       "      <th>type</th>\n",
       "    </tr>\n",
       "  </thead>\n",
       "  <tbody>\n",
       "    <tr>\n",
       "      <th>count</th>\n",
       "      <td>214.000000</td>\n",
       "      <td>214.000000</td>\n",
       "      <td>214.000000</td>\n",
       "      <td>214.000000</td>\n",
       "      <td>214.000000</td>\n",
       "      <td>214.000000</td>\n",
       "      <td>214.000000</td>\n",
       "      <td>214.000000</td>\n",
       "      <td>214.000000</td>\n",
       "      <td>214.000000</td>\n",
       "      <td>214.000000</td>\n",
       "    </tr>\n",
       "    <tr>\n",
       "      <th>mean</th>\n",
       "      <td>107.500000</td>\n",
       "      <td>1.518365</td>\n",
       "      <td>13.407850</td>\n",
       "      <td>2.684533</td>\n",
       "      <td>1.444907</td>\n",
       "      <td>72.650935</td>\n",
       "      <td>0.497056</td>\n",
       "      <td>8.956963</td>\n",
       "      <td>0.175047</td>\n",
       "      <td>0.057009</td>\n",
       "      <td>2.780374</td>\n",
       "    </tr>\n",
       "    <tr>\n",
       "      <th>std</th>\n",
       "      <td>61.920648</td>\n",
       "      <td>0.003037</td>\n",
       "      <td>0.816604</td>\n",
       "      <td>1.442408</td>\n",
       "      <td>0.499270</td>\n",
       "      <td>0.774546</td>\n",
       "      <td>0.652192</td>\n",
       "      <td>1.423153</td>\n",
       "      <td>0.497219</td>\n",
       "      <td>0.097439</td>\n",
       "      <td>2.103739</td>\n",
       "    </tr>\n",
       "    <tr>\n",
       "      <th>min</th>\n",
       "      <td>1.000000</td>\n",
       "      <td>1.511150</td>\n",
       "      <td>10.730000</td>\n",
       "      <td>0.000000</td>\n",
       "      <td>0.290000</td>\n",
       "      <td>69.810000</td>\n",
       "      <td>0.000000</td>\n",
       "      <td>5.430000</td>\n",
       "      <td>0.000000</td>\n",
       "      <td>0.000000</td>\n",
       "      <td>1.000000</td>\n",
       "    </tr>\n",
       "    <tr>\n",
       "      <th>25%</th>\n",
       "      <td>54.250000</td>\n",
       "      <td>1.516522</td>\n",
       "      <td>12.907500</td>\n",
       "      <td>2.115000</td>\n",
       "      <td>1.190000</td>\n",
       "      <td>72.280000</td>\n",
       "      <td>0.122500</td>\n",
       "      <td>8.240000</td>\n",
       "      <td>0.000000</td>\n",
       "      <td>0.000000</td>\n",
       "      <td>1.000000</td>\n",
       "    </tr>\n",
       "    <tr>\n",
       "      <th>50%</th>\n",
       "      <td>107.500000</td>\n",
       "      <td>1.517680</td>\n",
       "      <td>13.300000</td>\n",
       "      <td>3.480000</td>\n",
       "      <td>1.360000</td>\n",
       "      <td>72.790000</td>\n",
       "      <td>0.555000</td>\n",
       "      <td>8.600000</td>\n",
       "      <td>0.000000</td>\n",
       "      <td>0.000000</td>\n",
       "      <td>2.000000</td>\n",
       "    </tr>\n",
       "    <tr>\n",
       "      <th>75%</th>\n",
       "      <td>160.750000</td>\n",
       "      <td>1.519157</td>\n",
       "      <td>13.825000</td>\n",
       "      <td>3.600000</td>\n",
       "      <td>1.630000</td>\n",
       "      <td>73.087500</td>\n",
       "      <td>0.610000</td>\n",
       "      <td>9.172500</td>\n",
       "      <td>0.000000</td>\n",
       "      <td>0.100000</td>\n",
       "      <td>3.000000</td>\n",
       "    </tr>\n",
       "    <tr>\n",
       "      <th>max</th>\n",
       "      <td>214.000000</td>\n",
       "      <td>1.533930</td>\n",
       "      <td>17.380000</td>\n",
       "      <td>4.490000</td>\n",
       "      <td>3.500000</td>\n",
       "      <td>75.410000</td>\n",
       "      <td>6.210000</td>\n",
       "      <td>16.190000</td>\n",
       "      <td>3.150000</td>\n",
       "      <td>0.510000</td>\n",
       "      <td>7.000000</td>\n",
       "    </tr>\n",
       "  </tbody>\n",
       "</table>\n",
       "</div>"
      ],
      "text/plain": [
       "               id          ri          na          mg          al          si  \\\n",
       "count  214.000000  214.000000  214.000000  214.000000  214.000000  214.000000   \n",
       "mean   107.500000    1.518365   13.407850    2.684533    1.444907   72.650935   \n",
       "std     61.920648    0.003037    0.816604    1.442408    0.499270    0.774546   \n",
       "min      1.000000    1.511150   10.730000    0.000000    0.290000   69.810000   \n",
       "25%     54.250000    1.516522   12.907500    2.115000    1.190000   72.280000   \n",
       "50%    107.500000    1.517680   13.300000    3.480000    1.360000   72.790000   \n",
       "75%    160.750000    1.519157   13.825000    3.600000    1.630000   73.087500   \n",
       "max    214.000000    1.533930   17.380000    4.490000    3.500000   75.410000   \n",
       "\n",
       "                k          ca          ba          fe        type  \n",
       "count  214.000000  214.000000  214.000000  214.000000  214.000000  \n",
       "mean     0.497056    8.956963    0.175047    0.057009    2.780374  \n",
       "std      0.652192    1.423153    0.497219    0.097439    2.103739  \n",
       "min      0.000000    5.430000    0.000000    0.000000    1.000000  \n",
       "25%      0.122500    8.240000    0.000000    0.000000    1.000000  \n",
       "50%      0.555000    8.600000    0.000000    0.000000    2.000000  \n",
       "75%      0.610000    9.172500    0.000000    0.100000    3.000000  \n",
       "max      6.210000   16.190000    3.150000    0.510000    7.000000  "
      ]
     },
     "execution_count": 7,
     "metadata": {},
     "output_type": "execute_result"
    }
   ],
   "source": [
    "# Describe the data\n",
    "df_1.describe()"
   ]
  },
  {
   "cell_type": "code",
   "execution_count": 8,
   "id": "af910c76-3071-481f-879c-c2edd1252ad2",
   "metadata": {},
   "outputs": [
    {
     "name": "stdout",
     "output_type": "stream",
     "text": [
      "Empty DataFrame\n",
      "Columns: [id, ri, na, mg, al, si, k, ca, ba, fe, type]\n",
      "Index: []\n"
     ]
    }
   ],
   "source": [
    "# values less than 0\n",
    "minus = df_1 < 0\n",
    "print(df_1[minus.any(axis=1)])"
   ]
  },
  {
   "cell_type": "markdown",
   "id": "c9472cd5-5855-437b-8012-9237b680b7ec",
   "metadata": {
    "jp-MarkdownHeadingCollapsed": true
   },
   "source": [
    "## Check for values in the categorical column"
   ]
  },
  {
   "cell_type": "code",
   "execution_count": 9,
   "id": "23852eeb-76b2-48f7-b342-8f162a9569af",
   "metadata": {},
   "outputs": [
    {
     "data": {
      "text/plain": [
       "array([1, 2, 3, 5, 6, 7], dtype=int64)"
      ]
     },
     "execution_count": 9,
     "metadata": {},
     "output_type": "execute_result"
    }
   ],
   "source": [
    "df_1['type'].unique()"
   ]
  },
  {
   "cell_type": "markdown",
   "id": "36417a72-596c-498c-b3ef-658eb457f4fc",
   "metadata": {
    "jp-MarkdownHeadingCollapsed": true
   },
   "source": [
    "## Check for duplicated rows"
   ]
  },
  {
   "cell_type": "code",
   "execution_count": 10,
   "id": "8aad659f-5e18-4213-9b96-ad3f894f9010",
   "metadata": {},
   "outputs": [
    {
     "data": {
      "text/plain": [
       "0"
      ]
     },
     "execution_count": 10,
     "metadata": {},
     "output_type": "execute_result"
    }
   ],
   "source": [
    "df_1.duplicated().sum()"
   ]
  },
  {
   "cell_type": "markdown",
   "id": "47cc4820-8330-4503-acd9-41b18ccd15fe",
   "metadata": {
    "jp-MarkdownHeadingCollapsed": true
   },
   "source": [
    "## Check for 0 values"
   ]
  },
  {
   "cell_type": "code",
   "execution_count": 11,
   "id": "9ba4e786-495e-4daf-b0b5-ef0a04012717",
   "metadata": {},
   "outputs": [],
   "source": [
    "# Min value is 0.00, check for 0.00 values\n",
    "df_zero = (df_1 == 0).sum()"
   ]
  },
  {
   "cell_type": "code",
   "execution_count": 12,
   "id": "27a3a605-3e5e-48e2-9ddb-cd602b42c5fe",
   "metadata": {},
   "outputs": [
    {
     "data": {
      "text/plain": [
       "id        0\n",
       "ri        0\n",
       "na        0\n",
       "mg       42\n",
       "al        0\n",
       "si        0\n",
       "k        30\n",
       "ca        0\n",
       "ba      176\n",
       "fe      144\n",
       "type      0\n",
       "dtype: int64"
      ]
     },
     "execution_count": 12,
     "metadata": {},
     "output_type": "execute_result"
    }
   ],
   "source": [
    "df_zero"
   ]
  },
  {
   "cell_type": "code",
   "execution_count": 13,
   "id": "f2e2b841-27ec-4778-ae6a-6b300630d8a5",
   "metadata": {},
   "outputs": [
    {
     "name": "stdout",
     "output_type": "stream",
     "text": [
      "id       0.000000\n",
      "ri       0.000000\n",
      "na       0.000000\n",
      "mg      19.626168\n",
      "al       0.000000\n",
      "si       0.000000\n",
      "k       14.018692\n",
      "ca       0.000000\n",
      "ba      82.242991\n",
      "fe      67.289720\n",
      "type     0.000000\n",
      "dtype: float64\n"
     ]
    }
   ],
   "source": [
    "# Check percentage of 0 values\n",
    "zero_percentage = (df_1 == 0).mean() * 100\n",
    "print(zero_percentage)"
   ]
  },
  {
   "cell_type": "code",
   "execution_count": 14,
   "id": "137bdd16-f367-4395-a647-bdc5fd27cb78",
   "metadata": {},
   "outputs": [
    {
     "data": {
      "image/png": "[encoded data removed]",
      "text/plain": [
       "<Figure size 600x200 with 1 Axes>"
      ]
     },
     "metadata": {},
     "output_type": "display_data"
    }
   ],
   "source": [
    "#Graph %\n",
    "plt.figure(figsize=(6,2))\n",
    "plt.bar(zero_percentage.index, zero_percentage, color='skyblue', edgecolor='black')\n",
    "\n",
    "plt.title('% of 0.00 values per column')\n",
    "plt.xlabel('columns')\n",
    "plt.ylabel('%')\n",
    "\n",
    "plt.show()\n"
   ]
  },
  {
   "cell_type": "markdown",
   "id": "c7d8a0ef-9b8c-4640-925e-186fd090f0fc",
   "metadata": {
    "jp-MarkdownHeadingCollapsed": true
   },
   "source": [
    "## Drop ID / BA column"
   ]
  },
  {
   "cell_type": "code",
   "execution_count": 15,
   "id": "d415d2e8-5810-4e49-b8d7-a55eb514f807",
   "metadata": {},
   "outputs": [],
   "source": [
    "df_1.drop(columns=['id','ba'], inplace=True)"
   ]
  },
  {
   "cell_type": "code",
   "execution_count": 16,
   "id": "a1b062f3-37b3-4248-b683-b71eb966def9",
   "metadata": {},
   "outputs": [
    {
     "data": {
      "text/html": [
       "<div>\n",
       "<style scoped>\n",
       "    .dataframe tbody tr th:only-of-type {\n",
       "        vertical-align: middle;\n",
       "    }\n",
       "\n",
       "    .dataframe tbody tr th {\n",
       "        vertical-align: top;\n",
       "    }\n",
       "\n",
       "    .dataframe thead th {\n",
       "        text-align: right;\n",
       "    }\n",
       "</style>\n",
       "<table border=\"1\" class=\"dataframe\">\n",
       "  <thead>\n",
       "    <tr style=\"text-align: right;\">\n",
       "      <th></th>\n",
       "      <th>ri</th>\n",
       "      <th>na</th>\n",
       "      <th>mg</th>\n",
       "      <th>al</th>\n",
       "      <th>si</th>\n",
       "      <th>k</th>\n",
       "      <th>ca</th>\n",
       "      <th>fe</th>\n",
       "      <th>type</th>\n",
       "    </tr>\n",
       "  </thead>\n",
       "  <tbody>\n",
       "    <tr>\n",
       "      <th>0</th>\n",
       "      <td>1.52101</td>\n",
       "      <td>13.64</td>\n",
       "      <td>4.49</td>\n",
       "      <td>1.10</td>\n",
       "      <td>71.78</td>\n",
       "      <td>0.06</td>\n",
       "      <td>8.75</td>\n",
       "      <td>0.0</td>\n",
       "      <td>1</td>\n",
       "    </tr>\n",
       "    <tr>\n",
       "      <th>1</th>\n",
       "      <td>1.51761</td>\n",
       "      <td>13.89</td>\n",
       "      <td>3.60</td>\n",
       "      <td>1.36</td>\n",
       "      <td>72.73</td>\n",
       "      <td>0.48</td>\n",
       "      <td>7.83</td>\n",
       "      <td>0.0</td>\n",
       "      <td>1</td>\n",
       "    </tr>\n",
       "    <tr>\n",
       "      <th>2</th>\n",
       "      <td>1.51618</td>\n",
       "      <td>13.53</td>\n",
       "      <td>3.55</td>\n",
       "      <td>1.54</td>\n",
       "      <td>72.99</td>\n",
       "      <td>0.39</td>\n",
       "      <td>7.78</td>\n",
       "      <td>0.0</td>\n",
       "      <td>1</td>\n",
       "    </tr>\n",
       "    <tr>\n",
       "      <th>3</th>\n",
       "      <td>1.51766</td>\n",
       "      <td>13.21</td>\n",
       "      <td>3.69</td>\n",
       "      <td>1.29</td>\n",
       "      <td>72.61</td>\n",
       "      <td>0.57</td>\n",
       "      <td>8.22</td>\n",
       "      <td>0.0</td>\n",
       "      <td>1</td>\n",
       "    </tr>\n",
       "    <tr>\n",
       "      <th>4</th>\n",
       "      <td>1.51742</td>\n",
       "      <td>13.27</td>\n",
       "      <td>3.62</td>\n",
       "      <td>1.24</td>\n",
       "      <td>73.08</td>\n",
       "      <td>0.55</td>\n",
       "      <td>8.07</td>\n",
       "      <td>0.0</td>\n",
       "      <td>1</td>\n",
       "    </tr>\n",
       "  </tbody>\n",
       "</table>\n",
       "</div>"
      ],
      "text/plain": [
       "        ri     na    mg    al     si     k    ca   fe  type\n",
       "0  1.52101  13.64  4.49  1.10  71.78  0.06  8.75  0.0     1\n",
       "1  1.51761  13.89  3.60  1.36  72.73  0.48  7.83  0.0     1\n",
       "2  1.51618  13.53  3.55  1.54  72.99  0.39  7.78  0.0     1\n",
       "3  1.51766  13.21  3.69  1.29  72.61  0.57  8.22  0.0     1\n",
       "4  1.51742  13.27  3.62  1.24  73.08  0.55  8.07  0.0     1"
      ]
     },
     "execution_count": 16,
     "metadata": {},
     "output_type": "execute_result"
    }
   ],
   "source": [
    "df_1.head()"
   ]
  },
  {
   "cell_type": "markdown",
   "id": "60a8ae16-c5a4-459d-94be-71258364d7b5",
   "metadata": {
    "jp-MarkdownHeadingCollapsed": true
   },
   "source": [
    "## Check for outliers in each column"
   ]
  },
  {
   "cell_type": "code",
   "execution_count": 17,
   "id": "6b67f54f-1be9-4cd3-924d-fe59d0a22089",
   "metadata": {},
   "outputs": [
    {
     "name": "stdout",
     "output_type": "stream",
     "text": [
      "ri\n",
      "lower bound: 1.5086175000000002\n",
      "upper bound: 1.5270624999999998\n",
      "Outliers in ri:\n",
      "          ri     na    mg    al     si     k     ca    fe  type\n",
      "103  1.52725  13.80  3.15  0.66  70.57  0.08  11.64  0.00     2\n",
      "106  1.53125  10.73  0.00  2.10  69.81  0.58  13.30  0.28     2\n",
      "107  1.53393  12.30  0.00  1.00  70.16  0.12  16.19  0.24     2\n",
      "111  1.52739  11.02  0.00  0.75  73.08  0.00  14.96  0.00     2\n",
      "112  1.52777  12.64  0.00  0.67  72.02  0.06  14.40  0.00     2\n",
      "--------------------------------------------------\n",
      "na\n",
      "lower bound: 10.155000000000005\n",
      "upper bound: 16.577499999999993\n",
      "Outliers in na:\n",
      "          ri     na   mg    al     si    k    ca   fe  type\n",
      "184  1.51115  17.38  0.0  0.34  75.41  0.0  6.65  0.0     6\n",
      "--------------------------------------------------\n",
      "mg\n",
      "lower bound: -2.340000000000001\n",
      "upper bound: 8.055000000000001\n",
      "Outliers in mg:\n",
      "Empty DataFrame\n",
      "Columns: [ri, na, mg, al, si, k, ca, fe, type]\n",
      "Index: []\n",
      "--------------------------------------------------\n",
      "al\n",
      "lower bound: -0.1299999999999999\n",
      "upper bound: 2.9499999999999997\n",
      "Outliers in al:\n",
      "          ri     na    mg    al     si     k    ca   fe  type\n",
      "163  1.51514  14.01  2.68  3.50  69.89  1.68  5.87  0.0     5\n",
      "171  1.51316  13.02  0.00  3.04  70.48  6.21  6.96  0.0     5\n",
      "172  1.51321  13.00  0.00  3.02  70.70  6.21  6.93  0.0     5\n",
      "--------------------------------------------------\n",
      "si\n",
      "lower bound: 69.85749999999999\n",
      "upper bound: 75.51000000000002\n",
      "Outliers in si:\n",
      "          ri     na   mg   al     si     k    ca    fe  type\n",
      "106  1.53125  10.73  0.0  2.1  69.81  0.58  13.3  0.28     2\n",
      "--------------------------------------------------\n",
      "k\n",
      "lower bound: -1.3399999999999999\n",
      "upper bound: 2.0725\n",
      "Outliers in k:\n",
      "          ri     na   mg    al     si     k    ca   fe  type\n",
      "171  1.51316  13.02  0.0  3.04  70.48  6.21  6.96  0.0     5\n",
      "172  1.51321  13.00  0.0  3.02  70.70  6.21  6.93  0.0     5\n",
      "201  1.51653  11.95  0.0  1.19  75.18  2.70  8.93  0.0     7\n",
      "--------------------------------------------------\n",
      "ca\n",
      "lower bound: 5.442500000000003\n",
      "upper bound: 11.969999999999997\n",
      "Outliers in ca:\n",
      "          ri     na   mg    al     si     k     ca    fe  type\n",
      "105  1.52475  11.45  0.0  1.88  72.19  0.81  13.24  0.34     2\n",
      "106  1.53125  10.73  0.0  2.10  69.81  0.58  13.30  0.28     2\n",
      "107  1.53393  12.30  0.0  1.00  70.16  0.12  16.19  0.24     2\n",
      "110  1.52664  11.23  0.0  0.77  73.21  0.00  14.68  0.00     2\n",
      "111  1.52739  11.02  0.0  0.75  73.08  0.00  14.96  0.00     2\n",
      "112  1.52777  12.64  0.0  0.67  72.02  0.06  14.40  0.00     2\n",
      "131  1.52614  13.70  0.0  1.36  71.24  0.19  13.44  0.10     2\n",
      "170  1.52369  13.44  0.0  1.58  72.22  0.32  12.24  0.00     5\n",
      "173  1.52043  13.38  0.0  1.40  72.25  0.33  12.50  0.00     5\n",
      "185  1.51131  13.69  3.2  1.81  72.81  1.76   5.43  0.00     7\n",
      "--------------------------------------------------\n",
      "fe\n",
      "lower bound: -0.30000000000000004\n",
      "upper bound: 0.4\n",
      "Outliers in fe:\n",
      "          ri     na    mg    al     si     k   ca    fe  type\n",
      "174  1.52058  12.85  1.61  2.17  72.18  0.76  9.7  0.51     5\n",
      "--------------------------------------------------\n",
      "type\n",
      "lower bound: -5.0\n",
      "upper bound: 9.0\n",
      "Outliers in type:\n",
      "Empty DataFrame\n",
      "Columns: [ri, na, mg, al, si, k, ca, fe, type]\n",
      "Index: []\n",
      "--------------------------------------------------\n"
     ]
    }
   ],
   "source": [
    "## The outliers are correct data, so I will only search for extreme outliers\n",
    "# Identifying extreme outliers using Inter Quartile Range (using 3 *IQR as this would be extreme)\n",
    "# Create an empty dictionary to store the outliers\n",
    "outliers = {}\n",
    "\n",
    "# Loop through each column to calculate IQR and identify extreme outliers\n",
    "for column in df_1.columns:\n",
    "    Q1 = df_1[column].quantile(0.25)\n",
    "    Q3 = df_1[column].quantile(0.75)\n",
    "    IQR = Q3 - Q1\n",
    "    lower_bound = Q1 - 3 * IQR\n",
    "    upper_bound = Q3 + 3 * IQR\n",
    "   \n",
    "    # Identify extreme outliers\n",
    "    outliers[column] = df_1[(df_1[column] < lower_bound) | (df_1[column] > upper_bound)]\n",
    "   \n",
    "    # Print outliers for each column (optional)\n",
    "    print(f\"{column}\")\n",
    "    print(f\"lower bound: {lower_bound}\")\n",
    "    print(f\"upper bound: {upper_bound}\")\n",
    "    print(f\"Outliers in {column}:\")\n",
    "    print(outliers[column])\n",
    "    print(\"-\" * 50)\n"
   ]
  },
  {
   "cell_type": "code",
   "execution_count": null,
   "id": "eb0c3951-d58d-4f46-828f-f678121e60db",
   "metadata": {},
   "outputs": [],
   "source": [
    "# create scatter plots for all columns to show extreme outliers\n",
    "plt.figure(figsize=(25,14))\n",
    "           \n",
    "for i, column in enumerate(df_1.columns):\n",
    "    # 2 rows, 5 columns\n",
    "    plt.subplot(2, 5, i+1)\n",
    "    sns.scatterplot(x= df_1.index, y = df_1[column], color='blue', label='Data Points')\n",
    "    \n",
    "    #Extrem Outliers in red\n",
    "    sns.scatterplot(x=outliers[column].index, y=outliers[column][column], color='red', label='Extreme Outliers')\n",
    "    plt.title(f\"Scatter Plot with Extreme Outliers for {column}\")\n",
    "    plt.xlabel('Index')\n",
    "    plt.ylabel('Values')\n",
    "    plt.legend()\n",
    "\n",
    "plt.tight_layout()\n",
    "plt.show()"
   ]
  },
  {
   "cell_type": "markdown",
   "id": "fe1b20c4-3c70-4beb-887a-4715b6e079cb",
   "metadata": {
    "jp-MarkdownHeadingCollapsed": true
   },
   "source": [
    "## Check Skewness to know whether to use median or mean when replacing outliers"
   ]
  },
  {
   "cell_type": "code",
   "execution_count": null,
   "id": "80c614ad-026e-4d70-a409-8d720d5391a7",
   "metadata": {},
   "outputs": [],
   "source": [
    "# Check skewness\n",
    "# skewness > 0, right-skewed / positive\n",
    "# skewness < 0, left-skewed / negative\n",
    "# skewness = 0, symmetric\n",
    "\n",
    "# -0.5 to +0.5 - approx symmetric = mean\n",
    "# -1 to +1 - moderate skewed = mean\n",
    "# >1 - substantial skewed = median\n",
    "# >2 - highly skewed = median\n",
    "\n",
    "from scipy.stats import skew\n",
    "\n",
    "#Create storage for skewness\n",
    "skew_df = {}\n",
    "\n",
    "# Loop each column for skewness\n",
    "for columns in df_1.columns:\n",
    "    #calculate skewness\n",
    "    col_skew = skew(df_1[columns])\n",
    "    #Add to dict\n",
    "    skew_df[columns] = col_skew\n",
    "    #print\n",
    "    print(f\"skewness for {columns}: {col_skew:.3f}\")\n",
    "    \n"
   ]
  },
  {
   "cell_type": "code",
   "execution_count": null,
   "id": "46ca47cd-f786-450f-b512-4c5d38bfa89f",
   "metadata": {},
   "outputs": [],
   "source": [
    "# plot skewness for each column\n",
    "def plot_skewness(df_1):\n",
    "    plt.figure(figsize=(12, 8))\n",
    "   \n",
    "    # Loop through each column \n",
    "    for i, columns in enumerate(df_1.columns):\n",
    "        plt.subplot(3, 4, i + 1)  \n",
    "        sns.histplot(df_1[columns], kde=True, bins=20, color='skyblue')\n",
    "       \n",
    "        # Calculate skewness for the column\n",
    "        column_skew = skew(df_1[columns])\n",
    "       \n",
    "        # Title and annotation for skewness\n",
    "        plt.title(f'{columns} - Skewness: {column_skew:.3f}')\n",
    "        plt.xlabel(columns)\n",
    "        plt.ylabel('Frequency')\n",
    "   \n",
    "    # Adjust layout to avoid overlap\n",
    "    plt.tight_layout()\n",
    "    plt.show()\n",
    "\n",
    "# Plot skewness for all columns\n",
    "plot_skewness(df_1)"
   ]
  },
  {
   "cell_type": "markdown",
   "id": "7cee8ea9-e9f3-43cd-9ad1-c893a3953134",
   "metadata": {
    "jp-MarkdownHeadingCollapsed": true
   },
   "source": [
    "## Replace Outliers"
   ]
  },
  {
   "cell_type": "code",
   "execution_count": null,
   "id": "fc48abb7-515c-4771-921d-870100f99922",
   "metadata": {},
   "outputs": [],
   "source": [
    "# ri - 5 extreme outliers - Median\n",
    "# na - 1 extreme outliers -  mean\n",
    "# mg - \n",
    "# al - 3 extreme outliers -  mean\n",
    "# si - 1 extreme outliers -  mean\n",
    "# k - 3 extreme outliers -  30 zero values - Median\n",
    "# ca - 10 extreme outliers - Median\n",
    "# fe - 1 extreme outliers - 144 zero values- Median"
   ]
  },
  {
   "cell_type": "code",
   "execution_count": null,
   "id": "ec9205bc-3633-4f05-96fb-adfbad060460",
   "metadata": {},
   "outputs": [],
   "source": [
    "# replace outliers with median\n",
    "for col in ['ri', 'k', 'fe','ca']:\n",
    "    med_val = df_1[col].median()\n",
    "    df_1[col] = df_1[col].apply(lambda x: med_val if x < df_1[col].quantile(0.25) - 3*(df_1[col].quantile(0.75)-df_1[col].quantile(0.25)) or x > df_1[col].quantile(0.75) + 3*(df_1[col].quantile(0.75)-df_1[col].quantile(0.25)) else x)\n",
    "\n",
    "\n",
    "# Replace outliers in specified columns with mean\n",
    "for col in ['na', 'al', 'si']:\n",
    "    mean_val = df_1[col].mean()\n",
    "    df_1[col] = df_1[col].apply(lambda x: mean_val if x < df_1[col].quantile(0.25) - 3*(df_1[col].quantile(0.75)-df_1[col].quantile(0.25)) or x > df_1[col].quantile(0.75) + 3*(df_1[col].quantile(0.75)-df_1[col].quantile(0.25)) else x)\n",
    "\n",
    "df_1.describe()"
   ]
  },
  {
   "cell_type": "code",
   "execution_count": null,
   "id": "cdb07bde-eec1-4ed8-82fd-6b634c538d74",
   "metadata": {},
   "outputs": [],
   "source": [
    "# Check again for Outliers to see if any remain as bounds may have shifted\n",
    "# Loop through each column to calculate IQR and identify extreme outliers\n",
    "for column in df_1.columns:\n",
    "    Q1 = df_1[column].quantile(0.25)\n",
    "    Q3 = df_1[column].quantile(0.75)\n",
    "    IQR = Q3 - Q1\n",
    "    lower_bound = Q1 - 3 * IQR\n",
    "    upper_bound = Q3 + 3 * IQR\n",
    "   \n",
    "    # Identify extreme outliers\n",
    "    outliers[column] = df_1[(df_1[column] < lower_bound) | (df_1[column] > upper_bound)]\n",
    "\n",
    "    #identify skewness \n",
    "    skewness = df_1[column].skew()\n",
    "    \n",
    "    # Print outliers for each column (optional)\n",
    "    print(f\"{column}\")\n",
    "    print(f\"lower bound: {lower_bound}\")\n",
    "    print(f\"upper bound: {upper_bound}\")\n",
    "    print(f\"skewness for {column}: {skewness}\")\n",
    "    print(f\"Outliers in {column}:\")\n",
    "    print(outliers[column])\n",
    "    print(\"-\" * 50)"
   ]
  },
  {
   "cell_type": "code",
   "execution_count": null,
   "id": "7656bc41-ac93-4150-abf4-1576a7d748b9",
   "metadata": {},
   "outputs": [],
   "source": [
    "# Skewness has shifted so I will replace the remaining outliers in line with new skewness (mean)\n",
    "# Replace outliers in specified columns with mean\n",
    "for col in ['ri', 'si', 'ca']:\n",
    "    mean_val = df_1[col].mean()\n",
    "    df_1[col] = df_1[col].apply(lambda x: mean_val if x < df_1[col].quantile(0.25) - 3*(df_1[col].quantile(0.75)-df_1[col].quantile(0.25)) or x > df_1[col].quantile(0.75) + 3*(df_1[col].quantile(0.75)-df_1[col].quantile(0.25)) else x)\n",
    "\n",
    "#Check outliers again to see if bounds shifting created more\n",
    "for column in ['ri', 'si', 'ca']:\n",
    "    Q1 = df_1[column].quantile(0.25)\n",
    "    Q3 = df_1[column].quantile(0.75)\n",
    "    IQR = Q3 - Q1\n",
    "    lower_bound = Q1 - 3 * IQR\n",
    "    upper_bound = Q3 + 3 * IQR\n",
    "   \n",
    "    # Identify extreme outliers\n",
    "    outliers[column] = df_1[(df_1[column] < lower_bound) | (df_1[column] > upper_bound)]\n",
    "\n",
    "    #identify skewness \n",
    "    skewness = df_1[column].skew()\n",
    "    \n",
    "    # Print outliers for each column (optional)\n",
    "    print(f\"{column}\")\n",
    "    print(f\"lower bound: {lower_bound}\")\n",
    "    print(f\"upper bound: {upper_bound}\")\n",
    "    print(f\"skewness for {column}: {skewness}\")\n",
    "    print(f\"Outliers in {column}:\")\n",
    "    print(outliers[column])\n",
    "    print(\"-\" * 50)"
   ]
  },
  {
   "cell_type": "code",
   "execution_count": null,
   "id": "b839a6f4-e21c-4434-9e05-2ce8d1306324",
   "metadata": {},
   "outputs": [],
   "source": [
    "# Still mean for si and ca - re-run\n",
    "# Replace outliers in specified columns with mean\n",
    "for col in ['si', 'ca']:\n",
    "    mean_val = df_1[col].mean()\n",
    "    df_1[col] = df_1[col].apply(lambda x: mean_val if x < df_1[col].quantile(0.25) - 3*(df_1[col].quantile(0.75)-df_1[col].quantile(0.25)) or x > df_1[col].quantile(0.75) + 3*(df_1[col].quantile(0.75)-df_1[col].quantile(0.25)) else x)\n",
    "\n",
    "\n",
    "for column in ['si', 'ca']:\n",
    "    Q1 = df_1[column].quantile(0.25)\n",
    "    Q3 = df_1[column].quantile(0.75)\n",
    "    IQR = Q3 - Q1\n",
    "    lower_bound = Q1 - 3 * IQR\n",
    "    upper_bound = Q3 + 3 * IQR\n",
    "   \n",
    "    # Identify extreme outliers\n",
    "    outliers[column] = df_1[(df_1[column] < lower_bound) | (df_1[column] > upper_bound)]\n",
    "\n",
    "    #identify skewness \n",
    "    skewness = df_1[column].skew()\n",
    "    \n",
    "    # Print outliers for each column (optional)\n",
    "    print(f\"{column}\")\n",
    "    print(f\"lower bound: {lower_bound}\")\n",
    "    print(f\"upper bound: {upper_bound}\")\n",
    "    print(f\"skewness for {column}: {skewness}\")\n",
    "    print(f\"Outliers in {column}:\")\n",
    "    print(outliers[column])\n",
    "    print(\"-\" * 50)"
   ]
  },
  {
   "cell_type": "code",
   "execution_count": null,
   "id": "67301703-64b5-4e5a-8058-c304216a5e18",
   "metadata": {},
   "outputs": [],
   "source": [
    "# Replace outliers in specified columns with mean\n",
    "for col in ['ca']:\n",
    "    mean_val = df_1[col].mean()\n",
    "    df_1[col] = df_1[col].apply(lambda x: mean_val if x < df_1[col].quantile(0.25) - 3*(df_1[col].quantile(0.75)-df_1[col].quantile(0.25)) or x > df_1[col].quantile(0.75) + 3*(df_1[col].quantile(0.75)-df_1[col].quantile(0.25)) else x)\n",
    "\n",
    "\n",
    "for column in ['ca']:\n",
    "    Q1 = df_1[column].quantile(0.25)\n",
    "    Q3 = df_1[column].quantile(0.75)\n",
    "    IQR = Q3 - Q1\n",
    "    lower_bound = Q1 - 3 * IQR\n",
    "    upper_bound = Q3 + 3 * IQR\n",
    "   \n",
    "    # Identify extreme outliers\n",
    "    outliers[column] = df_1[(df_1[column] < lower_bound) | (df_1[column] > upper_bound)]\n",
    "\n",
    "    #identify skewness \n",
    "    skewness = df_1[column].skew()\n",
    "    \n",
    "    # Print outliers for each column (optional)\n",
    "    print(f\"{column}\")\n",
    "    print(f\"lower bound: {lower_bound}\")\n",
    "    print(f\"upper bound: {upper_bound}\")\n",
    "    print(f\"Outliers in {column}:\")\n",
    "    print(f\"skewness for {column}: {skewness}\")\n",
    "    print(outliers[column])\n",
    "    print(\"-\" * 50)"
   ]
  },
  {
   "cell_type": "code",
   "execution_count": null,
   "id": "6f052f4e-e47b-450e-b066-df44fcb67350",
   "metadata": {},
   "outputs": [],
   "source": [
    "# Replace outliers in specified columns with mean\n",
    "for col in ['ca']:\n",
    "    mean_val = df_1[col].mean()\n",
    "    df_1[col] = df_1[col].apply(lambda x: mean_val if x < df_1[col].quantile(0.25) - 3*(df_1[col].quantile(0.75)-df_1[col].quantile(0.25)) or x > df_1[col].quantile(0.75) + 3*(df_1[col].quantile(0.75)-df_1[col].quantile(0.25)) else x)\n",
    "\n",
    "\n",
    "for column in ['ca']:\n",
    "    Q1 = df_1[column].quantile(0.25)\n",
    "    Q3 = df_1[column].quantile(0.75)\n",
    "    IQR = Q3 - Q1\n",
    "    lower_bound = Q1 - 3 * IQR\n",
    "    upper_bound = Q3 + 3 * IQR\n",
    "   \n",
    "    # Identify extreme outliers\n",
    "    outliers[column] = df_1[(df_1[column] < lower_bound) | (df_1[column] > upper_bound)]\n",
    "\n",
    "    #identify skewness \n",
    "    skewness = df_1[column].skew()\n",
    "    \n",
    "    # Print outliers for each column (optional)\n",
    "    print(f\"{column}\")\n",
    "    print(f\"lower bound: {lower_bound}\")\n",
    "    print(f\"upper bound: {upper_bound}\")\n",
    "    print(f\"skewness for {column}: {skewness}\")\n",
    "    print(f\"Outliers in {column}:\")\n",
    "    print(outliers[column])\n",
    "    print(\"-\" * 50)"
   ]
  },
  {
   "cell_type": "code",
   "execution_count": null,
   "id": "7d03f9a7-bcb7-456b-9372-a8f367064027",
   "metadata": {},
   "outputs": [],
   "source": [
    "# Replace outliers in specified columns with mean\n",
    "for col in ['ca']:\n",
    "    mean_val = df_1[col].mean()\n",
    "    df_1[col] = df_1[col].apply(lambda x: mean_val if x < df_1[col].quantile(0.25) - 3*(df_1[col].quantile(0.75)-df_1[col].quantile(0.25)) or x > df_1[col].quantile(0.75) + 3*(df_1[col].quantile(0.75)-df_1[col].quantile(0.25)) else x)\n",
    "\n",
    "\n",
    "for column in ['ca']:\n",
    "    Q1 = df_1[column].quantile(0.25)\n",
    "    Q3 = df_1[column].quantile(0.75)\n",
    "    IQR = Q3 - Q1\n",
    "    lower_bound = Q1 - 3 * IQR\n",
    "    upper_bound = Q3 + 3 * IQR\n",
    "   \n",
    "    # Identify extreme outliers\n",
    "    outliers[column] = df_1[(df_1[column] < lower_bound) | (df_1[column] > upper_bound)]\n",
    "\n",
    "    #identify skewness \n",
    "    skewness = df_1[column].skew()\n",
    "    \n",
    "    # Print outliers for each column (optional)\n",
    "    print(f\"{column}\")\n",
    "    print(f\"lower bound: {lower_bound}\")\n",
    "    print(f\"upper bound: {upper_bound}\")\n",
    "    print(f\"skewness for {column}: {skewness}\")\n",
    "    print(f\"Outliers in {column}:\")\n",
    "    print(outliers[column])\n",
    "    print(\"-\" * 50)"
   ]
  },
  {
   "cell_type": "markdown",
   "id": "a3c933b6-4fbe-4b65-9ae5-2c72b19b469c",
   "metadata": {},
   "source": [
    "## Build Model: Dense Neural Network"
   ]
  },
  {
   "cell_type": "code",
   "execution_count": null,
   "id": "0b55af62-db86-407c-ba26-71e2fcdb1da0",
   "metadata": {},
   "outputs": [],
   "source": [
    "# Split features and target variable\n",
    "\n",
    "X = df_1.drop('type', axis=1)\n",
    "y = df_1['type']"
   ]
  },
  {
   "cell_type": "code",
   "execution_count": null,
   "id": "61ea82c2-ae3b-4a76-9a36-7b230324bdc6",
   "metadata": {},
   "outputs": [],
   "source": [
    "# Split the data into training and testing sets\n",
    "\n",
    "X_train, X_test, y_train, y_test = train_test_split(X, y, test_size=0.3, random_state=42)"
   ]
  },
  {
   "cell_type": "code",
   "execution_count": null,
   "id": "eae99b4f-ef0c-487c-b4ea-7890ccab589f",
   "metadata": {},
   "outputs": [],
   "source": [
    "# Build the model\n",
    "def build_dens_model(activation='relu', optimizer='adam',neurons=64, dropout_rate=0.2, l2_rate=0.01):\n",
    "    model = Sequential()\n",
    "\n",
    "    ## First hidden layer with ReLU Activation and regularization\n",
    "    model.add(layers.Dense(neurons, input_dim=X_train_s.shape[1], activation=activation, kernel_regularizer=regularizers.l2(l2_rate))) \n",
    "                           #activation=activation, input_shape=(X_train.shape[1],), kernel_regularizer=regularizers.l2(0.01)))\n",
    "\n",
    "    \n",
    "    # Add dropout layer\n",
    "    model.add(layers.Dropout(dropout_rate))\n",
    "\n",
    "    #Add second layer\n",
    "    model.add(layers.Dense(neurons, activation=activation,\n",
    "                          kernel_regularizer=regularizers.l2(l2_rate))) # Second hidden layer \n",
    "    \n",
    "    \n",
    "    # Add dropout layer\n",
    "    model.add(layers.Dropout(dropout_rate))\n",
    "    \n",
    "    #Add Output layer (try softmax of sigmoid\n",
    "    model.add(layers.Dense(6, activation='softmax')) # 6 outputs for 6 classes \n",
    "\n",
    "    \n",
    "    #Choose Optimizer\n",
    "    if optimizer == 'adam': optimizer = Adam()\n",
    "    elif optimizer == 'sgd': optimizer = SGD()\n",
    "    #Compile the model\n",
    "    model.compile(optimizer=optimizer, loss='categorical_crossentropy', metrics=['accuracy'])\n",
    "    \n",
    "    return model"
   ]
  },
  {
   "cell_type": "code",
   "execution_count": null,
   "id": "decbac49-150e-4f5e-8bfb-eb06a6549e69",
   "metadata": {},
   "outputs": [],
   "source": [
    "# Build\n",
    "model = build_dens_model(activation='relu', optimizer='adam',neurons=64, dropout_rate=0.2, l2_rate=0.01)\n",
    "\n",
    "model.summary()"
   ]
  },
  {
   "cell_type": "code",
   "execution_count": null,
   "id": "e32a79bc-8e99-42c4-bc90-a2ab8c0b867f",
   "metadata": {},
   "outputs": [],
   "source": [
    "# Train the model\n",
    "model.fit(X_train_s, y_train_s_encoded, epochs=500, batch_size=32, validation_split=0.2,callbacks=[early_stopping])"
   ]
  },
  {
   "cell_type": "code",
   "execution_count": null,
   "id": "ae00193a-cc81-4442-9991-bebb71857fdf",
   "metadata": {},
   "outputs": [],
   "source": [
    "# Evaluate the model\n",
    "test_loss, test_acc = model.evaluate(X_test_scaled, y_test_encoded, verbose=2)\n",
    "print('\\nTest accuracy:', test_acc)"
   ]
  },
  {
   "cell_type": "code",
   "execution_count": null,
   "id": "a5b5957c-0c74-43aa-baa2-0d7e93107edf",
   "metadata": {},
   "outputs": [],
   "source": [
    "# Make predictions\n",
    "y_pred = model.predict(X_test_scaled)"
   ]
  },
  {
   "cell_type": "code",
   "execution_count": null,
   "id": "5de7a3e6-52e3-4626-82ee-574cc328764f",
   "metadata": {},
   "outputs": [],
   "source": [
    "# Create a DataFrame to display actual and predicted values\n",
    "results = pd.DataFrame({'Actual': np.argmax(y_test_encoded, axis=1), 'Predicted': np.argmax(y_pred, axis=1)})\n",
    "print(results)"
   ]
  },
  {
   "cell_type": "code",
   "execution_count": null,
   "id": "24ff5ef4-6724-46e7-a9dd-b214bc8bda60",
   "metadata": {},
   "outputs": [],
   "source": [
    "# Classification Report prior to GridSearch\n",
    "y_pred_c = np.argmax(y_pred, axis=1) \n",
    "\n",
    "# Convert true labels from one hot coding to class labels\n",
    "y_test_c = np.argmax(y_test_encoded,  axis=1)\n",
    "\n",
    "print(classification_report(y_test_c,y_pred_c))"
   ]
  },
  {
   "cell_type": "markdown",
   "id": "2c9e4666-2849-403c-b473-740c02338e5e",
   "metadata": {},
   "source": [
    "## Scale and SMOTE before re-applying Model"
   ]
  },
  {
   "cell_type": "code",
   "execution_count": null,
   "id": "b5f50a28-a349-4bb1-b590-adeac1d47ac6",
   "metadata": {},
   "outputs": [],
   "source": [
    "## Scale the features\n",
    "\n",
    "scaler = StandardScaler()\n",
    "X_train_scaled = scaler.fit_transform(X_train)\n",
    "X_test_scaled = scaler.transform(X_test)"
   ]
  },
  {
   "cell_type": "code",
   "execution_count": null,
   "id": "d12af7f6-bd7c-42b4-86d3-9872c6b76135",
   "metadata": {},
   "outputs": [],
   "source": [
    "# check 'type' column for imbalance\n",
    "\n",
    "type_imb = df_1['type']\n",
    "\n",
    "plt.figure(figsize=(4,2))\n",
    "sns.countplot(x=type_imb, data=df_1, palette = 'Set3')\n",
    "plt.title(\"Type of glass distribution of values\")\n",
    "plt.show()"
   ]
  },
  {
   "cell_type": "code",
   "execution_count": null,
   "id": "8232ba93-8c44-4400-9299-e3c8fea65d8b",
   "metadata": {},
   "outputs": [],
   "source": [
    "# Apply SMOTE to balance the classes in the training set\n",
    "smote = SMOTE(random_state=42)\n",
    "X_train_s, y_train_s = smote.fit_resample(X_train_scaled, y_train)"
   ]
  },
  {
   "cell_type": "code",
   "execution_count": null,
   "id": "04802018-1585-442d-b0e0-b19a7d72f735",
   "metadata": {},
   "outputs": [],
   "source": [
    "# check 'type' column after SMOTE\n",
    "\n",
    "type_imb = df_1['type']\n",
    "\n",
    "plt.figure(figsize=(4,2))\n",
    "sns.countplot(x=y_train_s, palette = 'Set3')\n",
    "plt.title(\"Type of glass distribution after SMOTE\")\n",
    "plt.show()"
   ]
  },
  {
   "cell_type": "code",
   "execution_count": null,
   "id": "f23cecf6-013c-4dee-898e-7f408e163c59",
   "metadata": {},
   "outputs": [],
   "source": [
    "#not acceptiong reshape code so change to numpy array\n",
    "y_train_s = y_train_s.to_numpy()\n",
    "y_test = y_test.to_numpy()\n"
   ]
  },
  {
   "cell_type": "code",
   "execution_count": null,
   "id": "c67d0c62-d2b1-42c3-b9f2-b36630637db4",
   "metadata": {},
   "outputs": [],
   "source": [
    "#One hot encoding on multiclass target variable\n",
    "encoder = OneHotEncoder(sparse_output=False)\n",
    "y_train_s_encoded = encoder.fit_transform(y_train_s.reshape(-1,1))\n",
    "y_test_encoded = encoder.transform(y_test.reshape(-1,1))\n"
   ]
  },
  {
   "cell_type": "code",
   "execution_count": null,
   "id": "555d6504-d0ee-4231-8cb9-62f6427971ae",
   "metadata": {},
   "outputs": [],
   "source": [
    "# Build the model\n",
    "def build_dens_model(activation='relu', optimizer='adam',neurons=64, dropout_rate=0.2, l2_rate=0.01):\n",
    "    model = Sequential()\n",
    "\n",
    "    ## First hidden layer with ReLU Activation and regularization\n",
    "    model.add(layers.Dense(neurons, input_dim=X_train_s.shape[1], activation=activation, kernel_regularizer=regularizers.l2(l2_rate))) \n",
    "                           #activation=activation, input_shape=(X_train.shape[1],), kernel_regularizer=regularizers.l2(0.01)))\n",
    "\n",
    "    \n",
    "    # Add dropout layer\n",
    "    model.add(layers.Dropout(dropout_rate))\n",
    "\n",
    "    #Add second layer\n",
    "    model.add(layers.Dense(neurons, activation=activation,\n",
    "                          kernel_regularizer=regularizers.l2(l2_rate))) # Second hidden layer \n",
    "    \n",
    "    \n",
    "    # Add dropout layer\n",
    "    model.add(layers.Dropout(dropout_rate))\n",
    "    \n",
    "    #Add Output layer (try softmax of sigmoid\n",
    "    model.add(layers.Dense(6, activation='softmax')) # 6 outputs for 6 classes \n",
    "\n",
    "    \n",
    "    #Choose Optimizer\n",
    "    if optimizer == 'adam': optimizer = Adam()\n",
    "    elif optimizer == 'sgd': optimizer = SGD()\n",
    "    #Compile the model\n",
    "    model.compile(optimizer=optimizer, loss='categorical_crossentropy', metrics=['accuracy'])\n",
    "    \n",
    "    return model\n",
    "\n"
   ]
  },
  {
   "cell_type": "code",
   "execution_count": null,
   "id": "b5f43fe0-faf4-46b7-bc01-de2ebc606487",
   "metadata": {},
   "outputs": [],
   "source": [
    "# Build\n",
    "model = build_dens_model(activation='relu', optimizer='adam',neurons=64, dropout_rate=0.2, l2_rate=0.01)\n",
    "\n",
    "model.summary()"
   ]
  },
  {
   "cell_type": "code",
   "execution_count": null,
   "id": "2f6d82a7-89a3-4224-a2e9-d59a38f79437",
   "metadata": {},
   "outputs": [],
   "source": [
    "from keras.callbacks import EarlyStopping\n",
    "\n",
    "early_stopping = EarlyStopping(monitor='val_loss', patience=5, restore_best_weights=True)"
   ]
  },
  {
   "cell_type": "code",
   "execution_count": null,
   "id": "da83d56e-f707-49c7-90c4-3e541428017f",
   "metadata": {},
   "outputs": [],
   "source": [
    "# Train the model\n",
    "model.fit(X_train_s, y_train_s_encoded, epochs=500, batch_size=32, validation_split=0.2,callbacks=[early_stopping])"
   ]
  },
  {
   "cell_type": "code",
   "execution_count": null,
   "id": "51fb55a6-a044-43f3-9bd9-911a0676c2f7",
   "metadata": {},
   "outputs": [],
   "source": [
    "# Evaluate the model\n",
    "test_loss, test_acc = model.evaluate(X_test_scaled, y_test_encoded, verbose=2)\n",
    "print('\\nTest accuracy:', test_acc)"
   ]
  },
  {
   "cell_type": "code",
   "execution_count": null,
   "id": "390cf438-ca28-4440-8f45-e822ad6ce7de",
   "metadata": {},
   "outputs": [],
   "source": [
    "# Make predictions\n",
    "y_pred = model.predict(X_test_scaled)"
   ]
  },
  {
   "cell_type": "code",
   "execution_count": null,
   "id": "931c9fdf-3852-4589-8433-d039a3218815",
   "metadata": {},
   "outputs": [],
   "source": [
    "# Create a DataFrame to display actual and predicted values\n",
    "results = pd.DataFrame({'Actual': np.argmax(y_test_encoded, axis=1), 'Predicted': np.argmax(y_pred, axis=1)})\n",
    "print(results)"
   ]
  },
  {
   "cell_type": "code",
   "execution_count": null,
   "id": "04793008-9860-424a-98b0-1beb32fc3df0",
   "metadata": {},
   "outputs": [],
   "source": [
    "# Classification Report prior to GridSearch\n",
    "y_pred_c = np.argmax(y_pred, axis=1) \n",
    "\n",
    "# Convert true labels from one hot coding to class labels\n",
    "y_test_c = np.argmax(y_test_encoded,  axis=1)\n",
    "\n",
    "print(classification_report(y_test_c,y_pred_c))"
   ]
  },
  {
   "cell_type": "markdown",
   "id": "4ceec5da-c321-4162-a984-7c4e5edd2df6",
   "metadata": {},
   "source": [
    "## GridsearchCV"
   ]
  },
  {
   "cell_type": "code",
   "execution_count": null,
   "id": "c1fe032d-be20-453e-908b-dfe5d1d2e666",
   "metadata": {},
   "outputs": [],
   "source": [
    "param_grid = {\n",
    "    'model__activation': ['relu', 'tanh','sigmoid','selu','elu'], # activation function\n",
    "    'model__neurons':[32, 64, 128, 256, 512], # Wider range\n",
    "    'model__optimizer': ['adam', 'sgd', 'rmsprop','adagrad'], # optimizers\n",
    "        \n",
    "}"
   ]
  },
  {
   "cell_type": "code",
   "execution_count": null,
   "id": "4a4d5c40-4e90-499d-bc7d-ab07d6527889",
   "metadata": {},
   "outputs": [],
   "source": [
    "# Wrap the model with KerasClassifier\n",
    "keras_model = KerasClassifier(build_fn=build_dens_model, epochs=50, batch_size=32, verbose=0)"
   ]
  },
  {
   "cell_type": "code",
   "execution_count": null,
   "id": "f6c801b3-c526-4b61-9a4b-0f0c96c647d1",
   "metadata": {},
   "outputs": [],
   "source": [
    "#set up GridSearchCV with a Stratified Fold \n",
    "from sklearn.model_selection import KFold\n",
    "\n",
    "cv = KFold(n_splits=5)\n",
    "grid_search = GridSearchCV(estimator = keras_model, param_grid = param_grid, cv = cv, n_jobs = -1, verbose = 1, scoring='accuracy')"
   ]
  },
  {
   "cell_type": "code",
   "execution_count": null,
   "id": "1632fbd7-1dfb-4f5c-87db-6613e27899cc",
   "metadata": {},
   "outputs": [],
   "source": [
    "# fit the model with GridSearchCV\n",
    "grid_search.fit(X_train_s, y_train_s_encoded,callbacks=[early_stopping])\n",
    "\n",
    "\n",
    "# Print best parameters from GridSearchCV\n",
    "print(f\"Best hyperparameters: {grid_search.best_params_}\")\n",
    "print(f\"Best Accuracy (cv): {grid_search.best_score_}\")\n",
    "\n",
    "#Evaluate the best model on the test set\n",
    "best_model = grid_search.best_estimator_\n",
    "\n",
    "test_accuracy = best_model.score(X_test_scaled, y_test_encoded)\n",
    "print(f\"Test Accuracy: {test_accuracy:.4f}\")\n"
   ]
  },
  {
   "cell_type": "code",
   "execution_count": null,
   "id": "adf7cda9-24e0-47f4-9684-a0e30e034f7f",
   "metadata": {},
   "outputs": [],
   "source": [
    "# Classification Report prior to GridSearch\n",
    "y_pred_class = np.argmax(y_pred, axis=1) \n",
    "\n",
    "# Convert true labels from one hot coding to class labels\n",
    "y_test_class = np.argmax(y_test_encoded,  axis=1)\n",
    "\n",
    "print(classification_report(y_test_class,y_pred_class))"
   ]
  }
 ],
 "metadata": {
  "kernelspec": {
   "display_name": "Python 3 (ipykernel)",
   "language": "python",
   "name": "python3"
  },
  "language_info": {
   "codemirror_mode": {
    "name": "ipython",
    "version": 3
   },
   "file_extension": ".py",
   "mimetype": "text/x-python",
   "name": "python",
   "nbconvert_exporter": "python",
   "pygments_lexer": "ipython3",
   "version": "3.12.4"
  }
 },
 "nbformat": 4,
 "nbformat_minor": 5
}
